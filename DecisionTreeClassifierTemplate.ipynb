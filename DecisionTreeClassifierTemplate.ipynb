{
  "nbformat": 4,
  "nbformat_minor": 0,
  "metadata": {
    "colab": {
      "name": "DecisionTreeClassifierTemplate",
      "provenance": [],
      "collapsed_sections": [],
      "authorship_tag": "ABX9TyOKKKRe6F/RQLDVjiUE21FW",
      "include_colab_link": true
    },
    "kernelspec": {
      "name": "python3",
      "display_name": "Python 3"
    },
    "language_info": {
      "name": "python"
    }
  },
  "cells": [
    {
      "cell_type": "markdown",
      "metadata": {
        "id": "view-in-github",
        "colab_type": "text"
      },
      "source": [
        "<a href=\"https://colab.research.google.com/github/mahluwal/Tensorflow/blob/master/DecisionTreeClassifierTemplate.ipynb\" target=\"_parent\"><img src=\"https://colab.research.google.com/assets/colab-badge.svg\" alt=\"Open In Colab\"/></a>"
      ]
    },
    {
      "cell_type": "code",
      "metadata": {
        "id": "Fs0SmMcxbSem"
      },
      "source": [
        "#DecisionTreeClassification\n",
        "\"\"\"\n",
        "#Multiple independent and one dependent variable\n",
        "\n",
        "import numpy as np\n",
        "import pandas as pd\n",
        "iris=pd.read_csv(\"iris.csv\")\n",
        "x=pd.DataFrame(iris[['Sepal_Length','Sepal_Width','Petal_Length','Petal_Width']])\n",
        "y=iris['Species']\n",
        "\n",
        "from sklearn model_selection import train_test_split\n",
        "x_train,x_test,y_train,y_test=train_test_split(x,y,test_size=0.30)\n",
        "\n",
        "from sklearn.tree import DecisionTreeClassifier\n",
        "classifier=DecisionTreeClassifier()\n",
        "classifier.fit(x_train,y_train)\n",
        "y_pred=classifier.predict(x_test)\n",
        "\n",
        "from sklearn.metrics import confusion_matrix\n",
        "print(confusion_matrix(y_test,y_pred))\n",
        "\n",
        "from sklearn.metrics import accuracy_score\n",
        "print(accuracy_score(y_test,y_pred))\n",
        "\"\"\"\n",
        "\n"
      ],
      "execution_count": null,
      "outputs": []
    }
  ]
}