{
  "nbformat": 4,
  "nbformat_minor": 0,
  "metadata": {
    "colab": {
      "name": "fraud_detection_classification_model.ipynb",
      "provenance": [],
      "collapsed_sections": [],
      "include_colab_link": true
    },
    "kernelspec": {
      "name": "python3",
      "display_name": "Python 3"
    }
  },
  "cells": [
    {
      "cell_type": "markdown",
      "metadata": {
        "id": "view-in-github",
        "colab_type": "text"
      },
      "source": [
        "<a href=\"https://colab.research.google.com/github/mahluwal/Tensorflow/blob/master/fraud_detection_classification_model.ipynb\" target=\"_parent\"><img src=\"https://colab.research.google.com/assets/colab-badge.svg\" alt=\"Open In Colab\"/></a>"
      ]
    },
    {
      "cell_type": "code",
      "metadata": {
        "id": "jMTuNQrZL5fQ"
      },
      "source": [
        "import pandas as pd\n",
        "import numpy as np"
      ],
      "execution_count": 1,
      "outputs": []
    },
    {
      "cell_type": "code",
      "metadata": {
        "id": "u3N2SWUaMF7z",
        "colab": {
          "base_uri": "https://localhost:8080/"
        },
        "outputId": "270c137a-bbc2-4070-814e-ef0872eaf949"
      },
      "source": [
        "from google.colab import drive\n",
        "drive.mount('/content/drive')"
      ],
      "execution_count": 2,
      "outputs": [
        {
          "output_type": "stream",
          "text": [
            "Mounted at /content/drive\n"
          ],
          "name": "stdout"
        }
      ]
    },
    {
      "cell_type": "code",
      "metadata": {
        "id": "QCxOy-eDMH-h",
        "colab": {
          "base_uri": "https://localhost:8080/"
        },
        "outputId": "e3a4a35c-0c9c-42d0-afb0-e1c4b4de5973"
      },
      "source": [
        "from google.colab import drive\n",
        "drive.mount('/content/drive')\n",
        "dataset = pd.read_csv(\"/content/drive/My Drive/bank_dataset.csv\")"
      ],
      "execution_count": 3,
      "outputs": [
        {
          "output_type": "stream",
          "text": [
            "Drive already mounted at /content/drive; to attempt to forcibly remount, call drive.mount(\"/content/drive\", force_remount=True).\n"
          ],
          "name": "stdout"
        }
      ]
    },
    {
      "cell_type": "code",
      "metadata": {
        "id": "WUF88djxOoqd",
        "colab": {
          "base_uri": "https://localhost:8080/",
          "height": 461
        },
        "outputId": "2a519f05-675a-4fe3-e1f5-d53cb17d9e0d"
      },
      "source": [
        "dataset"
      ],
      "execution_count": 4,
      "outputs": [
        {
          "output_type": "execute_result",
          "data": {
            "text/html": [
              "<div>\n",
              "<style scoped>\n",
              "    .dataframe tbody tr th:only-of-type {\n",
              "        vertical-align: middle;\n",
              "    }\n",
              "\n",
              "    .dataframe tbody tr th {\n",
              "        vertical-align: top;\n",
              "    }\n",
              "\n",
              "    .dataframe thead th {\n",
              "        text-align: right;\n",
              "    }\n",
              "</style>\n",
              "<table border=\"1\" class=\"dataframe\">\n",
              "  <thead>\n",
              "    <tr style=\"text-align: right;\">\n",
              "      <th></th>\n",
              "      <th>Unnamed: 0</th>\n",
              "      <th>label</th>\n",
              "      <th>msisdn</th>\n",
              "      <th>aon</th>\n",
              "      <th>daily_decr30</th>\n",
              "      <th>daily_decr90</th>\n",
              "      <th>rental30</th>\n",
              "      <th>rental90</th>\n",
              "      <th>last_rech_date_ma</th>\n",
              "      <th>last_rech_date_da</th>\n",
              "      <th>last_rech_amt_ma</th>\n",
              "      <th>cnt_ma_rech30</th>\n",
              "      <th>fr_ma_rech30</th>\n",
              "      <th>sumamnt_ma_rech30</th>\n",
              "      <th>medianamnt_ma_rech30</th>\n",
              "      <th>medianmarechprebal30</th>\n",
              "      <th>cnt_ma_rech90</th>\n",
              "      <th>fr_ma_rech90</th>\n",
              "      <th>sumamnt_ma_rech90</th>\n",
              "      <th>medianamnt_ma_rech90</th>\n",
              "      <th>medianmarechprebal90</th>\n",
              "      <th>cnt_da_rech30</th>\n",
              "      <th>fr_da_rech30</th>\n",
              "      <th>cnt_da_rech90</th>\n",
              "      <th>fr_da_rech90</th>\n",
              "      <th>cnt_loans30</th>\n",
              "      <th>amnt_loans30</th>\n",
              "      <th>maxamnt_loans30</th>\n",
              "      <th>medianamnt_loans30</th>\n",
              "      <th>cnt_loans90</th>\n",
              "      <th>amnt_loans90</th>\n",
              "      <th>maxamnt_loans90</th>\n",
              "      <th>medianamnt_loans90</th>\n",
              "      <th>payback30</th>\n",
              "      <th>payback90</th>\n",
              "      <th>pcircle</th>\n",
              "      <th>pdate</th>\n",
              "    </tr>\n",
              "  </thead>\n",
              "  <tbody>\n",
              "    <tr>\n",
              "      <th>0</th>\n",
              "      <td>1</td>\n",
              "      <td>0</td>\n",
              "      <td>21408I70789</td>\n",
              "      <td>272</td>\n",
              "      <td>3055.05</td>\n",
              "      <td>3065.15</td>\n",
              "      <td>220.13</td>\n",
              "      <td>260.13</td>\n",
              "      <td>2.0</td>\n",
              "      <td>0.0</td>\n",
              "      <td>1539</td>\n",
              "      <td>2</td>\n",
              "      <td>21.0</td>\n",
              "      <td>3078.0</td>\n",
              "      <td>1539.0</td>\n",
              "      <td>7.50</td>\n",
              "      <td>2</td>\n",
              "      <td>21</td>\n",
              "      <td>3078</td>\n",
              "      <td>1539.0</td>\n",
              "      <td>7.50</td>\n",
              "      <td>0.0</td>\n",
              "      <td>0.0</td>\n",
              "      <td>0</td>\n",
              "      <td>0</td>\n",
              "      <td>2</td>\n",
              "      <td>12</td>\n",
              "      <td>6.0</td>\n",
              "      <td>0.0</td>\n",
              "      <td>2.000000</td>\n",
              "      <td>12</td>\n",
              "      <td>6</td>\n",
              "      <td>0.0</td>\n",
              "      <td>29.000000</td>\n",
              "      <td>29.000000</td>\n",
              "      <td>UPW</td>\n",
              "      <td>7/20/2016</td>\n",
              "    </tr>\n",
              "    <tr>\n",
              "      <th>1</th>\n",
              "      <td>2</td>\n",
              "      <td>1</td>\n",
              "      <td>76462I70374</td>\n",
              "      <td>712</td>\n",
              "      <td>12122</td>\n",
              "      <td>12124.75</td>\n",
              "      <td>3691.26</td>\n",
              "      <td>3691.26</td>\n",
              "      <td>20.0</td>\n",
              "      <td>0.0</td>\n",
              "      <td>5787</td>\n",
              "      <td>1</td>\n",
              "      <td>0.0</td>\n",
              "      <td>5787.0</td>\n",
              "      <td>5787.0</td>\n",
              "      <td>61.04</td>\n",
              "      <td>1</td>\n",
              "      <td>0</td>\n",
              "      <td>5787</td>\n",
              "      <td>5787.0</td>\n",
              "      <td>61.04</td>\n",
              "      <td>0.0</td>\n",
              "      <td>0.0</td>\n",
              "      <td>0</td>\n",
              "      <td>0</td>\n",
              "      <td>1</td>\n",
              "      <td>12</td>\n",
              "      <td>12.0</td>\n",
              "      <td>0.0</td>\n",
              "      <td>1.000000</td>\n",
              "      <td>12</td>\n",
              "      <td>12</td>\n",
              "      <td>0.0</td>\n",
              "      <td>0.000000</td>\n",
              "      <td>0.000000</td>\n",
              "      <td>UPW</td>\n",
              "      <td>8/10/2016</td>\n",
              "    </tr>\n",
              "    <tr>\n",
              "      <th>2</th>\n",
              "      <td>3</td>\n",
              "      <td>1</td>\n",
              "      <td>17943I70372</td>\n",
              "      <td>535</td>\n",
              "      <td>1398</td>\n",
              "      <td>1398</td>\n",
              "      <td>900.13</td>\n",
              "      <td>900.13</td>\n",
              "      <td>3.0</td>\n",
              "      <td>0.0</td>\n",
              "      <td>1539</td>\n",
              "      <td>1</td>\n",
              "      <td>0.0</td>\n",
              "      <td>1539.0</td>\n",
              "      <td>1539.0</td>\n",
              "      <td>66.32</td>\n",
              "      <td>1</td>\n",
              "      <td>0</td>\n",
              "      <td>1539</td>\n",
              "      <td>1539.0</td>\n",
              "      <td>66.32</td>\n",
              "      <td>0.0</td>\n",
              "      <td>0.0</td>\n",
              "      <td>0</td>\n",
              "      <td>0</td>\n",
              "      <td>1</td>\n",
              "      <td>6</td>\n",
              "      <td>6.0</td>\n",
              "      <td>0.0</td>\n",
              "      <td>1.000000</td>\n",
              "      <td>6</td>\n",
              "      <td>6</td>\n",
              "      <td>0.0</td>\n",
              "      <td>0.000000</td>\n",
              "      <td>0.000000</td>\n",
              "      <td>UPW</td>\n",
              "      <td>8/19/2016</td>\n",
              "    </tr>\n",
              "    <tr>\n",
              "      <th>3</th>\n",
              "      <td>4</td>\n",
              "      <td>1</td>\n",
              "      <td>55773I70781</td>\n",
              "      <td>241</td>\n",
              "      <td>21.228</td>\n",
              "      <td>21.228</td>\n",
              "      <td>159.42</td>\n",
              "      <td>159.42</td>\n",
              "      <td>41.0</td>\n",
              "      <td>0.0</td>\n",
              "      <td>947</td>\n",
              "      <td>0</td>\n",
              "      <td>0.0</td>\n",
              "      <td>0.0</td>\n",
              "      <td>0.0</td>\n",
              "      <td>0.00</td>\n",
              "      <td>1</td>\n",
              "      <td>0</td>\n",
              "      <td>947</td>\n",
              "      <td>947.0</td>\n",
              "      <td>2.50</td>\n",
              "      <td>0.0</td>\n",
              "      <td>0.0</td>\n",
              "      <td>0</td>\n",
              "      <td>0</td>\n",
              "      <td>2</td>\n",
              "      <td>12</td>\n",
              "      <td>6.0</td>\n",
              "      <td>0.0</td>\n",
              "      <td>2.000000</td>\n",
              "      <td>12</td>\n",
              "      <td>6</td>\n",
              "      <td>0.0</td>\n",
              "      <td>0.000000</td>\n",
              "      <td>0.000000</td>\n",
              "      <td>UPW</td>\n",
              "      <td>6/6/2016</td>\n",
              "    </tr>\n",
              "    <tr>\n",
              "      <th>4</th>\n",
              "      <td>5</td>\n",
              "      <td>1</td>\n",
              "      <td>03813I82730</td>\n",
              "      <td>947</td>\n",
              "      <td>150.6193333</td>\n",
              "      <td>150.6193333</td>\n",
              "      <td>1098.9</td>\n",
              "      <td>1098.9</td>\n",
              "      <td>4.0</td>\n",
              "      <td>0.0</td>\n",
              "      <td>2309</td>\n",
              "      <td>7</td>\n",
              "      <td>2.0</td>\n",
              "      <td>20029.0</td>\n",
              "      <td>2309.0</td>\n",
              "      <td>29.00</td>\n",
              "      <td>8</td>\n",
              "      <td>2</td>\n",
              "      <td>23496</td>\n",
              "      <td>2888.0</td>\n",
              "      <td>35.00</td>\n",
              "      <td>0.0</td>\n",
              "      <td>0.0</td>\n",
              "      <td>0</td>\n",
              "      <td>0</td>\n",
              "      <td>7</td>\n",
              "      <td>42</td>\n",
              "      <td>6.0</td>\n",
              "      <td>0.0</td>\n",
              "      <td>7.000000</td>\n",
              "      <td>42</td>\n",
              "      <td>6</td>\n",
              "      <td>0.0</td>\n",
              "      <td>2.333333</td>\n",
              "      <td>2.333333</td>\n",
              "      <td>UPW</td>\n",
              "      <td>6/22/2016</td>\n",
              "    </tr>\n",
              "    <tr>\n",
              "      <th>...</th>\n",
              "      <td>...</td>\n",
              "      <td>...</td>\n",
              "      <td>...</td>\n",
              "      <td>...</td>\n",
              "      <td>...</td>\n",
              "      <td>...</td>\n",
              "      <td>...</td>\n",
              "      <td>...</td>\n",
              "      <td>...</td>\n",
              "      <td>...</td>\n",
              "      <td>...</td>\n",
              "      <td>...</td>\n",
              "      <td>...</td>\n",
              "      <td>...</td>\n",
              "      <td>...</td>\n",
              "      <td>...</td>\n",
              "      <td>...</td>\n",
              "      <td>...</td>\n",
              "      <td>...</td>\n",
              "      <td>...</td>\n",
              "      <td>...</td>\n",
              "      <td>...</td>\n",
              "      <td>...</td>\n",
              "      <td>...</td>\n",
              "      <td>...</td>\n",
              "      <td>...</td>\n",
              "      <td>...</td>\n",
              "      <td>...</td>\n",
              "      <td>...</td>\n",
              "      <td>...</td>\n",
              "      <td>...</td>\n",
              "      <td>...</td>\n",
              "      <td>...</td>\n",
              "      <td>...</td>\n",
              "      <td>...</td>\n",
              "      <td>...</td>\n",
              "      <td>...</td>\n",
              "    </tr>\n",
              "    <tr>\n",
              "      <th>189996</th>\n",
              "      <td>189997</td>\n",
              "      <td>0</td>\n",
              "      <td>18013I82733</td>\n",
              "      <td>234</td>\n",
              "      <td>1200</td>\n",
              "      <td>1200</td>\n",
              "      <td>5072.4</td>\n",
              "      <td>5474.34</td>\n",
              "      <td>3.0</td>\n",
              "      <td>0.0</td>\n",
              "      <td>770</td>\n",
              "      <td>1</td>\n",
              "      <td>0.0</td>\n",
              "      <td>770.0</td>\n",
              "      <td>770.0</td>\n",
              "      <td>21.00</td>\n",
              "      <td>1</td>\n",
              "      <td>0</td>\n",
              "      <td>770</td>\n",
              "      <td>770.0</td>\n",
              "      <td>21.00</td>\n",
              "      <td>0.0</td>\n",
              "      <td>0.0</td>\n",
              "      <td>0</td>\n",
              "      <td>0</td>\n",
              "      <td>1</td>\n",
              "      <td>6</td>\n",
              "      <td>6.0</td>\n",
              "      <td>0.0</td>\n",
              "      <td>1.000000</td>\n",
              "      <td>6</td>\n",
              "      <td>6</td>\n",
              "      <td>0.0</td>\n",
              "      <td>0.000000</td>\n",
              "      <td>0.000000</td>\n",
              "      <td>UPW</td>\n",
              "      <td>7/7/2016</td>\n",
              "    </tr>\n",
              "    <tr>\n",
              "      <th>189997</th>\n",
              "      <td>189998</td>\n",
              "      <td>1</td>\n",
              "      <td>91352I85340</td>\n",
              "      <td>1260</td>\n",
              "      <td>82293.59</td>\n",
              "      <td>82600.7</td>\n",
              "      <td>6612.94</td>\n",
              "      <td>7250.94</td>\n",
              "      <td>3.0</td>\n",
              "      <td>0.0</td>\n",
              "      <td>8000</td>\n",
              "      <td>6</td>\n",
              "      <td>3.0</td>\n",
              "      <td>63496.0</td>\n",
              "      <td>11874.0</td>\n",
              "      <td>647.40</td>\n",
              "      <td>9</td>\n",
              "      <td>3</td>\n",
              "      <td>99171</td>\n",
              "      <td>11874.0</td>\n",
              "      <td>501.40</td>\n",
              "      <td>0.0</td>\n",
              "      <td>0.0</td>\n",
              "      <td>0</td>\n",
              "      <td>0</td>\n",
              "      <td>3</td>\n",
              "      <td>30</td>\n",
              "      <td>12.0</td>\n",
              "      <td>0.0</td>\n",
              "      <td>4.000000</td>\n",
              "      <td>36</td>\n",
              "      <td>12</td>\n",
              "      <td>0.0</td>\n",
              "      <td>1.500000</td>\n",
              "      <td>1.666667</td>\n",
              "      <td>UPW</td>\n",
              "      <td>7/29/2016</td>\n",
              "    </tr>\n",
              "    <tr>\n",
              "      <th>189998</th>\n",
              "      <td>189999</td>\n",
              "      <td>1</td>\n",
              "      <td>87635I84452</td>\n",
              "      <td>1457</td>\n",
              "      <td>5477</td>\n",
              "      <td>9574.42</td>\n",
              "      <td>1730.83</td>\n",
              "      <td>3614.71</td>\n",
              "      <td>7.0</td>\n",
              "      <td>0.0</td>\n",
              "      <td>1539</td>\n",
              "      <td>3</td>\n",
              "      <td>16.0</td>\n",
              "      <td>4617.0</td>\n",
              "      <td>1539.0</td>\n",
              "      <td>26.07</td>\n",
              "      <td>10</td>\n",
              "      <td>8</td>\n",
              "      <td>15390</td>\n",
              "      <td>1539.0</td>\n",
              "      <td>35.57</td>\n",
              "      <td>0.0</td>\n",
              "      <td>0.0</td>\n",
              "      <td>0</td>\n",
              "      <td>0</td>\n",
              "      <td>1</td>\n",
              "      <td>6</td>\n",
              "      <td>6.0</td>\n",
              "      <td>0.0</td>\n",
              "      <td>2738.998602</td>\n",
              "      <td>24</td>\n",
              "      <td>6</td>\n",
              "      <td>0.0</td>\n",
              "      <td>0.000000</td>\n",
              "      <td>5.000000</td>\n",
              "      <td>UPW</td>\n",
              "      <td>8/15/2016</td>\n",
              "    </tr>\n",
              "    <tr>\n",
              "      <th>189999</th>\n",
              "      <td>190000</td>\n",
              "      <td>0</td>\n",
              "      <td>58569I90588</td>\n",
              "      <td>555</td>\n",
              "      <td>6229.698667</td>\n",
              "      <td>6256.37</td>\n",
              "      <td>4059.07</td>\n",
              "      <td>11634.55</td>\n",
              "      <td>14.0</td>\n",
              "      <td>0.0</td>\n",
              "      <td>10000</td>\n",
              "      <td>1</td>\n",
              "      <td>0.0</td>\n",
              "      <td>10000.0</td>\n",
              "      <td>10000.0</td>\n",
              "      <td>12.00</td>\n",
              "      <td>1</td>\n",
              "      <td>0</td>\n",
              "      <td>10000</td>\n",
              "      <td>10000.0</td>\n",
              "      <td>12.00</td>\n",
              "      <td>0.0</td>\n",
              "      <td>0.0</td>\n",
              "      <td>0</td>\n",
              "      <td>0</td>\n",
              "      <td>1</td>\n",
              "      <td>6</td>\n",
              "      <td>6.0</td>\n",
              "      <td>0.0</td>\n",
              "      <td>1.000000</td>\n",
              "      <td>6</td>\n",
              "      <td>6</td>\n",
              "      <td>0.0</td>\n",
              "      <td>0.000000</td>\n",
              "      <td>0.000000</td>\n",
              "      <td>UPW</td>\n",
              "      <td>7/22/2016</td>\n",
              "    </tr>\n",
              "    <tr>\n",
              "      <th>190000</th>\n",
              "      <td>190001</td>\n",
              "      <td>1</td>\n",
              "      <td>54589I70782</td>\n",
              "      <td>617</td>\n",
              "      <td>13096</td>\n",
              "      <td>13290.78</td>\n",
              "      <td>8077.65</td>\n",
              "      <td>8347.65</td>\n",
              "      <td>20.0</td>\n",
              "      <td>0.0</td>\n",
              "      <td>2309</td>\n",
              "      <td>2</td>\n",
              "      <td>9.0</td>\n",
              "      <td>4618.0</td>\n",
              "      <td>2309.0</td>\n",
              "      <td>107.80</td>\n",
              "      <td>5</td>\n",
              "      <td>8</td>\n",
              "      <td>11545</td>\n",
              "      <td>2309.0</td>\n",
              "      <td>159.80</td>\n",
              "      <td>0.0</td>\n",
              "      <td>0.0</td>\n",
              "      <td>0</td>\n",
              "      <td>0</td>\n",
              "      <td>2</td>\n",
              "      <td>18</td>\n",
              "      <td>12.0</td>\n",
              "      <td>0.0</td>\n",
              "      <td>6.000000</td>\n",
              "      <td>42</td>\n",
              "      <td>12</td>\n",
              "      <td>0.0</td>\n",
              "      <td>5.000000</td>\n",
              "      <td>4.000000</td>\n",
              "      <td>UPW</td>\n",
              "      <td>7/31/2016</td>\n",
              "    </tr>\n",
              "  </tbody>\n",
              "</table>\n",
              "<p>190001 rows × 37 columns</p>\n",
              "</div>"
            ],
            "text/plain": [
              "        Unnamed: 0  label       msisdn  ...  payback90 pcircle      pdate\n",
              "0                1      0  21408I70789  ...  29.000000     UPW  7/20/2016\n",
              "1                2      1  76462I70374  ...   0.000000     UPW  8/10/2016\n",
              "2                3      1  17943I70372  ...   0.000000     UPW  8/19/2016\n",
              "3                4      1  55773I70781  ...   0.000000     UPW   6/6/2016\n",
              "4                5      1  03813I82730  ...   2.333333     UPW  6/22/2016\n",
              "...            ...    ...          ...  ...        ...     ...        ...\n",
              "189996      189997      0  18013I82733  ...   0.000000     UPW   7/7/2016\n",
              "189997      189998      1  91352I85340  ...   1.666667     UPW  7/29/2016\n",
              "189998      189999      1  87635I84452  ...   5.000000     UPW  8/15/2016\n",
              "189999      190000      0  58569I90588  ...   0.000000     UPW  7/22/2016\n",
              "190000      190001      1  54589I70782  ...   4.000000     UPW  7/31/2016\n",
              "\n",
              "[190001 rows x 37 columns]"
            ]
          },
          "metadata": {
            "tags": []
          },
          "execution_count": 4
        }
      ]
    },
    {
      "cell_type": "code",
      "metadata": {
        "id": "L6f4QrMsmtCi",
        "colab": {
          "base_uri": "https://localhost:8080/"
        },
        "outputId": "55fdb78f-f441-4850-97bc-8c541c7ae445"
      },
      "source": [
        "dataset.columns"
      ],
      "execution_count": 5,
      "outputs": [
        {
          "output_type": "execute_result",
          "data": {
            "text/plain": [
              "Index(['Unnamed: 0', 'label', 'msisdn', 'aon', 'daily_decr30', 'daily_decr90',\n",
              "       'rental30', 'rental90', 'last_rech_date_ma', 'last_rech_date_da',\n",
              "       'last_rech_amt_ma', 'cnt_ma_rech30', 'fr_ma_rech30',\n",
              "       'sumamnt_ma_rech30', 'medianamnt_ma_rech30', 'medianmarechprebal30',\n",
              "       'cnt_ma_rech90', 'fr_ma_rech90', 'sumamnt_ma_rech90',\n",
              "       'medianamnt_ma_rech90', 'medianmarechprebal90', 'cnt_da_rech30',\n",
              "       'fr_da_rech30', 'cnt_da_rech90', 'fr_da_rech90', 'cnt_loans30',\n",
              "       'amnt_loans30', 'maxamnt_loans30', 'medianamnt_loans30', 'cnt_loans90',\n",
              "       'amnt_loans90', 'maxamnt_loans90', 'medianamnt_loans90', 'payback30',\n",
              "       'payback90', 'pcircle', 'pdate'],\n",
              "      dtype='object')"
            ]
          },
          "metadata": {
            "tags": []
          },
          "execution_count": 5
        }
      ]
    },
    {
      "cell_type": "code",
      "metadata": {
        "id": "MgTeVS9vPxph"
      },
      "source": [
        "#some data has \"UA\" so deleting those rows\n",
        "dataset = dataset.loc[[\"UA\" not in i for i in dataset[\"aon\"]]]\n",
        "dataset = dataset.loc[[\"UA\" not in i for i in dataset[\"daily_decr30\"]]]\n",
        "dataset = dataset.loc[[\"UA\" not in i for i in dataset[\"daily_decr90\"]]]\n",
        "dataset = dataset.loc[[\"UA\" not in i for i in dataset[\"rental30\"]]]\n",
        "dataset = dataset.loc[[\"UA\" not in i for i in dataset[\"rental90\"]]]"
      ],
      "execution_count": 6,
      "outputs": []
    },
    {
      "cell_type": "code",
      "metadata": {
        "id": "eFt-ldKARMCq"
      },
      "source": [
        "#Deleting the mobile number data from the dataset\n",
        "dataset = dataset.drop(columns=\"msisdn\")"
      ],
      "execution_count": 7,
      "outputs": []
    },
    {
      "cell_type": "code",
      "metadata": {
        "id": "4jAudxMUOxn4"
      },
      "source": [
        "## We have left first two columns and taken other columns as input features\n",
        "X = dataset.iloc[:, 2:].values\n",
        "\n",
        "# 2nd column is output labels\n",
        "Y = dataset.iloc[:, 1].values"
      ],
      "execution_count": 8,
      "outputs": []
    },
    {
      "cell_type": "code",
      "metadata": {
        "id": "s2oHD_AmPvzI",
        "colab": {
          "base_uri": "https://localhost:8080/"
        },
        "outputId": "487f9b93-2c2d-4a2f-cf4b-6b2810c8b9b1"
      },
      "source": [
        "Y"
      ],
      "execution_count": 9,
      "outputs": [
        {
          "output_type": "execute_result",
          "data": {
            "text/plain": [
              "array([0, 1, 1, ..., 1, 0, 1])"
            ]
          },
          "metadata": {
            "tags": []
          },
          "execution_count": 9
        }
      ]
    },
    {
      "cell_type": "code",
      "metadata": {
        "id": "5SRvNgtGPwyH",
        "colab": {
          "base_uri": "https://localhost:8080/"
        },
        "outputId": "1189eef9-31f5-46b8-ca63-7cc08fe24e57"
      },
      "source": [
        "X"
      ],
      "execution_count": 10,
      "outputs": [
        {
          "output_type": "execute_result",
          "data": {
            "text/plain": [
              "array([['272', '3055.05', '3065.15', ..., 29.0, 'UPW', '7/20/2016'],\n",
              "       ['712', '12122', '12124.75', ..., 0.0, 'UPW', '8/10/2016'],\n",
              "       ['535', '1398', '1398', ..., 0.0, 'UPW', '8/19/2016'],\n",
              "       ...,\n",
              "       ['1457', '5477', '9574.42', ..., 5.0, 'UPW', '8/15/2016'],\n",
              "       ['555', '6229.698667', '6256.37', ..., 0.0, 'UPW', '7/22/2016'],\n",
              "       ['617', '13096', '13290.78', ..., 4.0, 'UPW', '7/31/2016']],\n",
              "      dtype=object)"
            ]
          },
          "metadata": {
            "tags": []
          },
          "execution_count": 10
        }
      ]
    },
    {
      "cell_type": "code",
      "metadata": {
        "id": "1-cDdrX3P4Hj"
      },
      "source": [
        "#Date preprocessing, removing'/' from the date and Reordering it\n",
        "for i in range(len(X[:, 33])):\n",
        "  a = X[i, 33].split('/')\n",
        "  if len(a[0]) == 1:\n",
        "    a[0] = '0' + a[0]\n",
        "  if len(a[1]) == 1:\n",
        "    a[1] = '0' + a[1]\n",
        "  X[i, 33] = '/'.join(a)\n",
        "  X[i, 33] = X[i, 33].replace('/', '')[4:]+ X[i, 33].replace('/', '')[:4]"
      ],
      "execution_count": 11,
      "outputs": []
    },
    {
      "cell_type": "code",
      "metadata": {
        "id": "76cc-Q3RQb__",
        "colab": {
          "base_uri": "https://localhost:8080/"
        },
        "outputId": "539d9fb9-db20-4e14-8a70-17e930ec9e08"
      },
      "source": [
        "#visualise the date\n",
        "X[:, 33]"
      ],
      "execution_count": 12,
      "outputs": [
        {
          "output_type": "execute_result",
          "data": {
            "text/plain": [
              "array(['20160720', '20160810', '20160819', ..., '20160815', '20160722',\n",
              "       '20160731'], dtype=object)"
            ]
          },
          "metadata": {
            "tags": []
          },
          "execution_count": 12
        }
      ]
    },
    {
      "cell_type": "code",
      "metadata": {
        "id": "FcAuKM94ZF3K",
        "colab": {
          "base_uri": "https://localhost:8080/"
        },
        "outputId": "e4f140bd-72db-4f00-ae12-a5e0164e95d4"
      },
      "source": [
        "#visualising input data \n",
        "X"
      ],
      "execution_count": 13,
      "outputs": [
        {
          "output_type": "execute_result",
          "data": {
            "text/plain": [
              "array([['272', '3055.05', '3065.15', ..., 29.0, 'UPW', '20160720'],\n",
              "       ['712', '12122', '12124.75', ..., 0.0, 'UPW', '20160810'],\n",
              "       ['535', '1398', '1398', ..., 0.0, 'UPW', '20160819'],\n",
              "       ...,\n",
              "       ['1457', '5477', '9574.42', ..., 5.0, 'UPW', '20160815'],\n",
              "       ['555', '6229.698667', '6256.37', ..., 0.0, 'UPW', '20160722'],\n",
              "       ['617', '13096', '13290.78', ..., 4.0, 'UPW', '20160731']],\n",
              "      dtype=object)"
            ]
          },
          "metadata": {
            "tags": []
          },
          "execution_count": 13
        }
      ]
    },
    {
      "cell_type": "code",
      "metadata": {
        "id": "arQjpM_AOZ4M"
      },
      "source": [
        "#incoading pcircle in the data because it in str form\n",
        "from sklearn.preprocessing import LabelEncoder\n",
        "labelencoder = LabelEncoder()\n",
        "X[:, 32] = labelencoder.fit_transform(X[:, 32])"
      ],
      "execution_count": 14,
      "outputs": []
    },
    {
      "cell_type": "code",
      "metadata": {
        "id": "CpIo0Hwl9xTI"
      },
      "source": [
        ""
      ],
      "execution_count": 14,
      "outputs": []
    },
    {
      "cell_type": "code",
      "metadata": {
        "id": "y6yyKN8NOeVs",
        "colab": {
          "base_uri": "https://localhost:8080/"
        },
        "outputId": "2c9192ac-cdd8-4bf4-a4e0-8ebb55dea00e"
      },
      "source": [
        "X[:, 32]"
      ],
      "execution_count": 15,
      "outputs": [
        {
          "output_type": "execute_result",
          "data": {
            "text/plain": [
              "array([0, 0, 0, ..., 0, 0, 0], dtype=object)"
            ]
          },
          "metadata": {
            "tags": []
          },
          "execution_count": 15
        }
      ]
    },
    {
      "cell_type": "code",
      "metadata": {
        "id": "Cujd8BnNpXQ0",
        "colab": {
          "base_uri": "https://localhost:8080/"
        },
        "outputId": "c9af0d19-68e5-4d54-d1d0-25516c326040"
      },
      "source": [
        "X"
      ],
      "execution_count": 16,
      "outputs": [
        {
          "output_type": "execute_result",
          "data": {
            "text/plain": [
              "array([['272', '3055.05', '3065.15', ..., 29.0, 0, '20160720'],\n",
              "       ['712', '12122', '12124.75', ..., 0.0, 0, '20160810'],\n",
              "       ['535', '1398', '1398', ..., 0.0, 0, '20160819'],\n",
              "       ...,\n",
              "       ['1457', '5477', '9574.42', ..., 5.0, 0, '20160815'],\n",
              "       ['555', '6229.698667', '6256.37', ..., 0.0, 0, '20160722'],\n",
              "       ['617', '13096', '13290.78', ..., 4.0, 0, '20160731']],\n",
              "      dtype=object)"
            ]
          },
          "metadata": {
            "tags": []
          },
          "execution_count": 16
        }
      ]
    },
    {
      "cell_type": "code",
      "metadata": {
        "id": "jJcciB0YuYFA",
        "colab": {
          "base_uri": "https://localhost:8080/"
        },
        "outputId": "fa188c6f-255e-4716-ebd8-50719f2c67c5"
      },
      "source": [
        "#data type of each column\n",
        "for i in range(33):\n",
        "  print(type(X[3, i]))"
      ],
      "execution_count": 17,
      "outputs": [
        {
          "output_type": "stream",
          "text": [
            "<class 'str'>\n",
            "<class 'str'>\n",
            "<class 'str'>\n",
            "<class 'str'>\n",
            "<class 'str'>\n",
            "<class 'float'>\n",
            "<class 'float'>\n",
            "<class 'int'>\n",
            "<class 'int'>\n",
            "<class 'float'>\n",
            "<class 'float'>\n",
            "<class 'float'>\n",
            "<class 'float'>\n",
            "<class 'int'>\n",
            "<class 'int'>\n",
            "<class 'int'>\n",
            "<class 'float'>\n",
            "<class 'float'>\n",
            "<class 'float'>\n",
            "<class 'float'>\n",
            "<class 'int'>\n",
            "<class 'int'>\n",
            "<class 'int'>\n",
            "<class 'int'>\n",
            "<class 'float'>\n",
            "<class 'float'>\n",
            "<class 'float'>\n",
            "<class 'int'>\n",
            "<class 'int'>\n",
            "<class 'float'>\n",
            "<class 'float'>\n",
            "<class 'float'>\n",
            "<class 'int'>\n"
          ],
          "name": "stdout"
        }
      ]
    },
    {
      "cell_type": "code",
      "metadata": {
        "id": "RLqX5RWMRLBZ"
      },
      "source": [
        "#first five columns and 33rd column is string so they cant be normalized\n",
        "#converting them to float\n",
        "t = [0,1,2,3,4,33]\n",
        "for i in t:\n",
        "  X[:, i] = X[:, i].astype('float64')"
      ],
      "execution_count": 18,
      "outputs": []
    },
    {
      "cell_type": "code",
      "metadata": {
        "id": "uDbOu-OoSodd",
        "colab": {
          "base_uri": "https://localhost:8080/"
        },
        "outputId": "4332e73e-c881-470a-935d-ba89cd570ae1"
      },
      "source": [
        "#data type of each column\n",
        "for i in range(33):\n",
        "  print(type(X[3, i]))"
      ],
      "execution_count": 19,
      "outputs": [
        {
          "output_type": "stream",
          "text": [
            "<class 'float'>\n",
            "<class 'float'>\n",
            "<class 'float'>\n",
            "<class 'float'>\n",
            "<class 'float'>\n",
            "<class 'float'>\n",
            "<class 'float'>\n",
            "<class 'int'>\n",
            "<class 'int'>\n",
            "<class 'float'>\n",
            "<class 'float'>\n",
            "<class 'float'>\n",
            "<class 'float'>\n",
            "<class 'int'>\n",
            "<class 'int'>\n",
            "<class 'int'>\n",
            "<class 'float'>\n",
            "<class 'float'>\n",
            "<class 'float'>\n",
            "<class 'float'>\n",
            "<class 'int'>\n",
            "<class 'int'>\n",
            "<class 'int'>\n",
            "<class 'int'>\n",
            "<class 'float'>\n",
            "<class 'float'>\n",
            "<class 'float'>\n",
            "<class 'int'>\n",
            "<class 'int'>\n",
            "<class 'float'>\n",
            "<class 'float'>\n",
            "<class 'float'>\n",
            "<class 'int'>\n"
          ],
          "name": "stdout"
        }
      ]
    },
    {
      "cell_type": "code",
      "metadata": {
        "id": "rLOeG-iEZG3w"
      },
      "source": [
        "#test train split\n",
        "from sklearn.model_selection import train_test_split\n",
        "X_train, X_test, Y_train, Y_test = train_test_split(X, Y, test_size = 0.25, random_state = 1)"
      ],
      "execution_count": 20,
      "outputs": []
    },
    {
      "cell_type": "code",
      "metadata": {
        "id": "euoRAjbKZWD3",
        "colab": {
          "base_uri": "https://localhost:8080/"
        },
        "outputId": "10ba70ab-0171-48d7-9f9e-53de3381cc14"
      },
      "source": [
        "#visualizing test train data\n",
        "print(len(X_train))\n",
        "print(len(X_test))\n",
        "print(len(Y_train))\n",
        "print(len(Y_test))"
      ],
      "execution_count": 21,
      "outputs": [
        {
          "output_type": "stream",
          "text": [
            "138421\n",
            "46141\n",
            "138421\n",
            "46141\n"
          ],
          "name": "stdout"
        }
      ]
    },
    {
      "cell_type": "code",
      "metadata": {
        "id": "mDium15aZttJ",
        "colab": {
          "base_uri": "https://localhost:8080/"
        },
        "outputId": "bbfe83a7-7331-4e32-de62-8d9ff73a9be2"
      },
      "source": [
        "#visualizing test train data\n",
        "print(X_train.shape)\n",
        "print(X_test.shape)\n",
        "print(Y_train.shape)\n",
        "print(Y_test.shape)"
      ],
      "execution_count": 22,
      "outputs": [
        {
          "output_type": "stream",
          "text": [
            "(138421, 34)\n",
            "(46141, 34)\n",
            "(138421,)\n",
            "(46141,)\n"
          ],
          "name": "stdout"
        }
      ]
    },
    {
      "cell_type": "code",
      "metadata": {
        "id": "fEP0QyoGaW-K"
      },
      "source": [
        "from sklearn.preprocessing import StandardScaler\n",
        "sc = StandardScaler()\n",
        "X_train = sc.fit_transform(X_train)\n",
        "X_test = sc.transform(X_test)"
      ],
      "execution_count": 23,
      "outputs": []
    },
    {
      "cell_type": "code",
      "metadata": {
        "id": "Q2N7STdLtJ6S",
        "colab": {
          "base_uri": "https://localhost:8080/"
        },
        "outputId": "59f9118c-3742-4775-933b-90d11097759c"
      },
      "source": [
        "X_train"
      ],
      "execution_count": 24,
      "outputs": [
        {
          "output_type": "execute_result",
          "data": {
            "text/plain": [
              "array([[-1.02631723e-01,  7.69964736e-02,  6.22832114e-03, ...,\n",
              "         4.28506131e-01,  0.00000000e+00,  1.64379250e+00],\n",
              "       [-9.64429308e-02,  2.87682766e-01,  1.82850636e-01, ...,\n",
              "         5.49507594e-01,  0.00000000e+00,  3.02953746e-01],\n",
              "       [ 1.07452920e+01, -5.74582530e-01, -5.48749277e-01, ...,\n",
              "         9.77687995e-02,  0.00000000e+00, -1.07935425e+00],\n",
              "       ...,\n",
              "       [-1.00682188e-01, -5.80163874e-01, -5.53461114e-01, ...,\n",
              "        -4.18504109e-01,  0.00000000e+00, -1.01023885e+00],\n",
              "       [-1.06138269e-01, -5.79682799e-01, -5.53054985e-01, ...,\n",
              "        -4.18504109e-01,  0.00000000e+00, -1.25905429e+00],\n",
              "       [-1.08414907e-01, -5.51971013e-01, -5.29660368e-01, ...,\n",
              "        -4.18504109e-01,  0.00000000e+00,  1.92369107e-01]])"
            ]
          },
          "metadata": {
            "tags": []
          },
          "execution_count": 24
        }
      ]
    },
    {
      "cell_type": "code",
      "metadata": {
        "id": "dXWD_hk4aJtO",
        "colab": {
          "base_uri": "https://localhost:8080/",
          "height": 72
        },
        "outputId": "7becb5c9-47d5-4314-edfb-e7a43505686c"
      },
      "source": [
        "'''from sklearn.ensemble import RandomForestClassifier\n",
        "classifier = RandomForestClassifier(n_estimators = 10, criterion = 'entropy', random_state = 0)\n",
        "classifier.fit(X_train, Y_train)'''"
      ],
      "execution_count": null,
      "outputs": [
        {
          "output_type": "execute_result",
          "data": {
            "application/vnd.google.colaboratory.intrinsic+json": {
              "type": "string"
            },
            "text/plain": [
              "\"from sklearn.ensemble import RandomForestClassifier\\nclassifier = RandomForestClassifier(n_estimators = 10, criterion = 'entropy', random_state = 0)\\nclassifier.fit(X_train, Y_train)\""
            ]
          },
          "metadata": {
            "tags": []
          },
          "execution_count": 25
        }
      ]
    },
    {
      "cell_type": "code",
      "metadata": {
        "id": "mKuCv3sWoOrq",
        "colab": {
          "base_uri": "https://localhost:8080/",
          "height": 54
        },
        "outputId": "7c9d7ea1-8939-4b8e-df78-5652fe434a88"
      },
      "source": [
        "'''from sklearn.tree import DecisionTreeClassifier\n",
        "classifier = DecisionTreeClassifier(criterion = 'entropy', random_state = 0)\n",
        "classifier.fit(X_train, Y_train)'''"
      ],
      "execution_count": null,
      "outputs": [
        {
          "output_type": "execute_result",
          "data": {
            "application/vnd.google.colaboratory.intrinsic+json": {
              "type": "string"
            },
            "text/plain": [
              "\"from sklearn.tree import DecisionTreeClassifier\\nclassifier = DecisionTreeClassifier(criterion = 'entropy', random_state = 0)\\nclassifier.fit(X_train, Y_train)\""
            ]
          },
          "metadata": {
            "tags": []
          },
          "execution_count": 26
        }
      ]
    },
    {
      "cell_type": "code",
      "metadata": {
        "id": "E3mIwECZoOgX",
        "colab": {
          "base_uri": "https://localhost:8080/",
          "height": 54
        },
        "outputId": "4b38e755-26a6-417f-f488-bd9553fd0cfe"
      },
      "source": [
        "'''from sklearn.naive_bayes import GaussianNB\n",
        "classifier = GaussianNB()\n",
        "classifier.fit(X_train, Y_train)'''"
      ],
      "execution_count": null,
      "outputs": [
        {
          "output_type": "execute_result",
          "data": {
            "application/vnd.google.colaboratory.intrinsic+json": {
              "type": "string"
            },
            "text/plain": [
              "'from sklearn.naive_bayes import GaussianNB\\nclassifier = GaussianNB()\\nclassifier.fit(X_train, Y_train)'"
            ]
          },
          "metadata": {
            "tags": []
          },
          "execution_count": 27
        }
      ]
    },
    {
      "cell_type": "code",
      "metadata": {
        "id": "gW5gjipwoOWH",
        "colab": {
          "base_uri": "https://localhost:8080/",
          "height": 34
        },
        "outputId": "67e38bda-df4f-4a78-bad7-a06572f5ae2a"
      },
      "source": [
        "'''from sklearn.svm import SVC\n",
        "classifier = SVC(kernel = 'rbf', random_state = 0)\n",
        "classifier.fit(X_train, Y_train)'''"
      ],
      "execution_count": null,
      "outputs": [
        {
          "output_type": "execute_result",
          "data": {
            "text/plain": [
              "\"from sklearn.svm import SVC\\nclassifier = SVC(kernel = 'rbf', random_state = 0)\\nclassifier.fit(X_train, Y_train)\""
            ]
          },
          "metadata": {
            "tags": []
          },
          "execution_count": 25
        }
      ]
    },
    {
      "cell_type": "code",
      "metadata": {
        "id": "SXdF7RbEoOHY",
        "colab": {
          "base_uri": "https://localhost:8080/",
          "height": 34
        },
        "outputId": "0eb01b25-824d-43f7-9685-bd22a17f067b"
      },
      "source": [
        "\"\"\"from sklearn.svm import SVC\n",
        "classifier = SVC(kernel = 'linear', random_state = 0)\n",
        "classifier.fit(X_train, Y_train)\"\"\""
      ],
      "execution_count": null,
      "outputs": [
        {
          "output_type": "execute_result",
          "data": {
            "text/plain": [
              "\"from sklearn.svm import SVC\\nclassifier = SVC(kernel = 'linear', random_state = 0)\\nclassifier.fit(X_train, Y_train)\""
            ]
          },
          "metadata": {
            "tags": []
          },
          "execution_count": 26
        }
      ]
    },
    {
      "cell_type": "code",
      "metadata": {
        "id": "KPMnj8mkoNnO",
        "colab": {
          "base_uri": "https://localhost:8080/"
        },
        "outputId": "3c3296e0-b5dd-4c02-c9c5-aedac0d39bc6"
      },
      "source": [
        "from sklearn.neighbors import KNeighborsClassifier\n",
        "classifier = KNeighborsClassifier(n_neighbors = 5, metric = 'minkowski', p = 2)\n",
        "classifier.fit(X_train, Y_train)"
      ],
      "execution_count": 25,
      "outputs": [
        {
          "output_type": "execute_result",
          "data": {
            "text/plain": [
              "KNeighborsClassifier(algorithm='auto', leaf_size=30, metric='minkowski',\n",
              "                     metric_params=None, n_jobs=None, n_neighbors=5, p=2,\n",
              "                     weights='uniform')"
            ]
          },
          "metadata": {
            "tags": []
          },
          "execution_count": 25
        }
      ]
    },
    {
      "cell_type": "code",
      "metadata": {
        "id": "lmDhkdQvoikF",
        "colab": {
          "base_uri": "https://localhost:8080/",
          "height": 258
        },
        "outputId": "6f647899-03b8-470a-bbce-09a03c0a2552"
      },
      "source": [
        "\"\"\"from sklearn.linear_model import LogisticRegression\n",
        "classifier = LogisticRegression(random_state = 0)\n",
        "classifier.fit(X_train, Y_train)\"\"\""
      ],
      "execution_count": null,
      "outputs": [
        {
          "output_type": "stream",
          "text": [
            "/usr/local/lib/python3.6/dist-packages/sklearn/linear_model/_logistic.py:940: ConvergenceWarning: lbfgs failed to converge (status=1):\n",
            "STOP: TOTAL NO. of ITERATIONS REACHED LIMIT.\n",
            "\n",
            "Increase the number of iterations (max_iter) or scale the data as shown in:\n",
            "    https://scikit-learn.org/stable/modules/preprocessing.html\n",
            "Please also refer to the documentation for alternative solver options:\n",
            "    https://scikit-learn.org/stable/modules/linear_model.html#logistic-regression\n",
            "  extra_warning_msg=_LOGISTIC_SOLVER_CONVERGENCE_MSG)\n"
          ],
          "name": "stderr"
        },
        {
          "output_type": "execute_result",
          "data": {
            "text/plain": [
              "LogisticRegression(C=1.0, class_weight=None, dual=False, fit_intercept=True,\n",
              "                   intercept_scaling=1, l1_ratio=None, max_iter=100,\n",
              "                   multi_class='auto', n_jobs=None, penalty='l2',\n",
              "                   random_state=0, solver='lbfgs', tol=0.0001, verbose=0,\n",
              "                   warm_start=False)"
            ]
          },
          "metadata": {
            "tags": []
          },
          "execution_count": 25
        }
      ]
    },
    {
      "cell_type": "code",
      "metadata": {
        "id": "TSMy69mPxvtu"
      },
      "source": [
        "from sklearn.metrics import confusion_matrix"
      ],
      "execution_count": 26,
      "outputs": []
    },
    {
      "cell_type": "code",
      "metadata": {
        "id": "vmzJIN8maQV-"
      },
      "source": [
        "Y_pred = classifier.predict(X_test)"
      ],
      "execution_count": 27,
      "outputs": []
    },
    {
      "cell_type": "code",
      "metadata": {
        "id": "xXntsFc3FKNU"
      },
      "source": [
        "cm = confusion_matrix(Y_test, Y_pred)"
      ],
      "execution_count": 28,
      "outputs": []
    },
    {
      "cell_type": "code",
      "metadata": {
        "id": "bg_3QRxqaYK2",
        "colab": {
          "base_uri": "https://localhost:8080/"
        },
        "outputId": "662c40b9-ea1c-4447-caa2-14ab91d5c0ad"
      },
      "source": [
        "print('confusion matrix =')\n",
        "print(cm)"
      ],
      "execution_count": 29,
      "outputs": [
        {
          "output_type": "stream",
          "text": [
            "confusion matrix =\n",
            "[[ 2251  3527]\n",
            " [ 1769 38594]]\n"
          ],
          "name": "stdout"
        }
      ]
    },
    {
      "cell_type": "code",
      "metadata": {
        "id": "8_YI2QI8yBzb",
        "colab": {
          "base_uri": "https://localhost:8080/"
        },
        "outputId": "8600b2cc-5e9b-4701-bf7c-01a9ef257751"
      },
      "source": [
        "(cm[0][0]+cm[1][1])/(cm[0][0]+ cm[1][0]+cm[0][1]+cm[1][1])"
      ],
      "execution_count": 30,
      "outputs": [
        {
          "output_type": "execute_result",
          "data": {
            "text/plain": [
              "0.8852213866192757"
            ]
          },
          "metadata": {
            "tags": []
          },
          "execution_count": 30
        }
      ]
    },
    {
      "cell_type": "code",
      "metadata": {
        "id": "jja_cN2HaZam",
        "colab": {
          "base_uri": "https://localhost:8080/"
        },
        "outputId": "cf08367b-a91e-4812-9da6-032d9b090e45"
      },
      "source": [
        "from sklearn.metrics import accuracy_score\n",
        "accuracy = accuracy_score(Y_test, Y_pred)\n",
        "print('accuracy = ')\n",
        "print(accuracy)"
      ],
      "execution_count": 31,
      "outputs": [
        {
          "output_type": "stream",
          "text": [
            "accuracy = \n",
            "0.8852213866192757\n"
          ],
          "name": "stdout"
        }
      ]
    },
    {
      "cell_type": "code",
      "metadata": {
        "id": "mU4xLsOZgv53",
        "colab": {
          "base_uri": "https://localhost:8080/"
        },
        "outputId": "f9c171e7-319b-4d3f-c058-3e4732031b45"
      },
      "source": [
        "from sklearn.metrics import recall_score\n",
        "recall = recall_score(Y_test, Y_pred)\n",
        "print('recall = ')\n",
        "print(recall)"
      ],
      "execution_count": 32,
      "outputs": [
        {
          "output_type": "stream",
          "text": [
            "recall = \n",
            "0.9561727324529892\n"
          ],
          "name": "stdout"
        }
      ]
    },
    {
      "cell_type": "code",
      "metadata": {
        "colab": {
          "base_uri": "https://localhost:8080/"
        },
        "id": "NFus5mQrFyEO",
        "outputId": "a1e73f8e-20a1-4453-e3fc-c8812d60a5fa"
      },
      "source": [
        "(1000000-10)/1000000"
      ],
      "execution_count": 33,
      "outputs": [
        {
          "output_type": "execute_result",
          "data": {
            "text/plain": [
              "0.99999"
            ]
          },
          "metadata": {
            "tags": []
          },
          "execution_count": 33
        }
      ]
    },
    {
      "cell_type": "code",
      "metadata": {
        "id": "r6sGHTVGhNhf",
        "colab": {
          "base_uri": "https://localhost:8080/"
        },
        "outputId": "b88f8c99-6251-4650-b616-ab3447d049fd"
      },
      "source": [
        "from sklearn.metrics import precision_score\n",
        "precision = precision_score(Y_test, Y_pred)\n",
        "print('precision = ')\n",
        "print(precision)"
      ],
      "execution_count": 34,
      "outputs": [
        {
          "output_type": "stream",
          "text": [
            "precision = \n",
            "0.9162650459390803\n"
          ],
          "name": "stdout"
        }
      ]
    },
    {
      "cell_type": "code",
      "metadata": {
        "id": "y1jlvuHKka_Q",
        "colab": {
          "base_uri": "https://localhost:8080/"
        },
        "outputId": "3f5d2c12-b68b-47f1-ba00-666d58f8e2dc"
      },
      "source": [
        "f1_score = 2*recall*precision/(precision + recall)\n",
        "print('f1_score = ')\n",
        "print(f1_score)"
      ],
      "execution_count": 35,
      "outputs": [
        {
          "output_type": "stream",
          "text": [
            "f1_score = \n",
            "0.9357936084573978\n"
          ],
          "name": "stdout"
        }
      ]
    },
    {
      "cell_type": "code",
      "metadata": {
        "id": "rYnuUYw8lTVA"
      },
      "source": [
        ""
      ],
      "execution_count": null,
      "outputs": []
    }
  ]
}