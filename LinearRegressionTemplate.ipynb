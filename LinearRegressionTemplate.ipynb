{
  "nbformat": 4,
  "nbformat_minor": 0,
  "metadata": {
    "colab": {
      "name": "LinearRegressionTemplate",
      "provenance": [],
      "collapsed_sections": [],
      "authorship_tag": "ABX9TyMbU4th2xIwDlw72luS3bRI",
      "include_colab_link": true
    },
    "kernelspec": {
      "name": "python3",
      "display_name": "Python 3"
    },
    "language_info": {
      "name": "python"
    }
  },
  "cells": [
    {
      "cell_type": "markdown",
      "metadata": {
        "id": "view-in-github",
        "colab_type": "text"
      },
      "source": [
        "<a href=\"https://colab.research.google.com/github/mahluwal/Tensorflow/blob/master/LinearRegressionTemplate.ipynb\" target=\"_parent\"><img src=\"https://colab.research.google.com/assets/colab-badge.svg\" alt=\"Open In Colab\"/></a>"
      ]
    },
    {
      "cell_type": "code",
      "metadata": {
        "colab": {
          "base_uri": "https://localhost:8080/",
          "height": 72
        },
        "id": "l-0m0_kVZHoT",
        "outputId": "00665342-a483-4387-e28c-7eb50bbebab0"
      },
      "source": [
        "#Linear Regression with one dependent and one independent variable\n",
        "\"\"\" \n",
        "x=pd.DataFrame(boston['rm'])\n",
        "y=pd.DataFrame(boston['medv'])\n",
        "\n",
        "from sklearn.modelselection import train_test_split\n",
        "x_train,x_test,y-train,y_test=train_test_split(x,y,test_size=0.20)\n",
        "\n",
        "from sklearn.linear_model import LinearRegression\n",
        "regressor=LinearRegression()\n",
        "regressor.fit(x_train,y_train)\n",
        "y_pred=regressor.predict(x_test)\n",
        "\n",
        "from sklearn import metrics\n",
        "import numpy as np\n",
        "print('Root Mean Squared Error:',np.sqrt(metrics.mean_squared_error(y_test,y_pred)))\n",
        "\"\"\"\n"
      ],
      "execution_count": 2,
      "outputs": [
        {
          "output_type": "execute_result",
          "data": {
            "application/vnd.google.colaboratory.intrinsic+json": {
              "type": "string"
            },
            "text/plain": [
              "\" \\nx=pd.DataFrame(boston['rm'])\\ny=pd.DataFrame(boston['medv'])\\n\\nfrom sklearn.modelselection import train_test_split\\nx_train,x_test,y-train,y_test=train_test_split(x,y,test_size=0.20)\\n\\nfrom sklearn.linear_model import LinearRegression\\nregressor=LinearRegression()\\nregressor.fit(x_train,y_train)\\ny_pred=regressor.predict(x_test)\\n\\nfrom sklearn import metrics\\nimport numpy as np\\nprint('Root Mean Squared Error:',np.sqrt(metrics.mean_squared_error(y_test,y_pred)))\\n\""
            ]
          },
          "metadata": {
            "tags": []
          },
          "execution_count": 2
        }
      ]
    },
    {
      "cell_type": "code",
      "metadata": {
        "id": "fxyQclTVadwG"
      },
      "source": [
        "\n"
      ],
      "execution_count": null,
      "outputs": []
    }
  ]
}