{
  "nbformat": 4,
  "nbformat_minor": 0,
  "metadata": {
    "kernelspec": {
      "display_name": "Python 3",
      "language": "python",
      "name": "python3"
    },
    "language_info": {
      "codemirror_mode": {
        "name": "ipython",
        "version": 3
      },
      "file_extension": ".py",
      "mimetype": "text/x-python",
      "name": "python",
      "nbconvert_exporter": "python",
      "pygments_lexer": "ipython3",
      "version": "3.6.8"
    },
    "colab": {
      "name": "polynomial_regression.ipynb",
      "provenance": [],
      "include_colab_link": true
    }
  },
  "cells": [
    {
      "cell_type": "markdown",
      "metadata": {
        "id": "view-in-github",
        "colab_type": "text"
      },
      "source": [
        "<a href=\"https://colab.research.google.com/github/mahluwal/Tensorflow/blob/master/polynomial_regression.ipynb\" target=\"_parent\"><img src=\"https://colab.research.google.com/assets/colab-badge.svg\" alt=\"Open In Colab\"/></a>"
      ]
    },
    {
      "cell_type": "markdown",
      "metadata": {
        "id": "MqeGnseA-d2L"
      },
      "source": [
        "# Function Approximation with a polynomial Model\n",
        "$y=f(x)=\\sin x$ <br />\n",
        "Approximate this function with a polynomial function of the form <br />\n",
        "$y = w_0 + w_1 x + w_2 x^2$ <br />\n",
        "in the range $x\\in(0,2\\pi)$"
      ]
    },
    {
      "cell_type": "code",
      "metadata": {
        "id": "QrMKF1aX-d2N"
      },
      "source": [
        "import numpy as np"
      ],
      "execution_count": null,
      "outputs": []
    },
    {
      "cell_type": "code",
      "metadata": {
        "id": "ZCW4CI5y-d2O"
      },
      "source": [
        "import matplotlib.pyplot as plt"
      ],
      "execution_count": null,
      "outputs": []
    },
    {
      "cell_type": "code",
      "metadata": {
        "id": "MJWuY5FP-d2Q"
      },
      "source": [
        "def fx(x):\n",
        "    y = np.sin(x)\n",
        "    return y"
      ],
      "execution_count": null,
      "outputs": []
    },
    {
      "cell_type": "code",
      "metadata": {
        "id": "ayuhp9_b-d2R"
      },
      "source": [
        "def generateX_fx(N):\n",
        "    x = np.random.random(N)*2*np.pi\n",
        "    yd = fx(x)\n",
        "    return x, yd"
      ],
      "execution_count": null,
      "outputs": []
    },
    {
      "cell_type": "code",
      "metadata": {
        "id": "9ewxkX8A-d2S"
      },
      "source": [
        "x, yd = generateX_fx(20)"
      ],
      "execution_count": null,
      "outputs": []
    },
    {
      "cell_type": "code",
      "metadata": {
        "id": "iKB6cgcX-d2S",
        "outputId": "8fb012ac-ce80-4d7b-e4d9-bd84dd687c1e"
      },
      "source": [
        "plt.scatter(x, yd)"
      ],
      "execution_count": null,
      "outputs": [
        {
          "output_type": "execute_result",
          "data": {
            "text/plain": [
              "<matplotlib.collections.PathCollection at 0x1c85ae3f2e8>"
            ]
          },
          "metadata": {
            "tags": []
          },
          "execution_count": 6
        },
        {
          "output_type": "display_data",
          "data": {
            "image/png": "[encoded data removed]",
            "text/plain": [
              "<Figure size 432x288 with 1 Axes>"
            ]
          },
          "metadata": {
            "tags": [],
            "needs_background": "light"
          }
        }
      ]
    },
    {
      "cell_type": "markdown",
      "metadata": {
        "id": "Fj179Y8D-d2U"
      },
      "source": [
        "### Define model\n",
        "$y = \\sum_{d=0}^D w_d x^d$, here, $D$ is the degree of the model, say D=2 <br />\n",
        "\n",
        "In matrix representation: y = Aw <br/>"
      ]
    },
    {
      "cell_type": "code",
      "metadata": {
        "id": "0SeDu9vj-d2U"
      },
      "source": [
        "def createA(x, D):\n",
        "    A = np.ones((D+1))\n",
        "    for d in range(1, D+1):\n",
        "        A[d] = np.power(x, d)/np.power(2*np.pi, d)\n",
        "    return A"
      ],
      "execution_count": null,
      "outputs": []
    },
    {
      "cell_type": "code",
      "metadata": {
        "id": "5OPywPF5-d2V"
      },
      "source": [
        "def init_w(D):\n",
        "    w = (2*np.random.random(D+1, )-1)\n",
        "    return w"
      ],
      "execution_count": null,
      "outputs": []
    },
    {
      "cell_type": "code",
      "metadata": {
        "id": "YLvWkk6k-d2W"
      },
      "source": [
        "def predict_y(w, x):\n",
        "    D = w.shape[0] -1\n",
        "    A = createA(x, D)\n",
        "    yhat = A.dot(w)\n",
        "    return yhat"
      ],
      "execution_count": null,
      "outputs": []
    },
    {
      "cell_type": "code",
      "metadata": {
        "id": "STgydhRo-d2Y"
      },
      "source": [
        "def compute_mse(y, yd):\n",
        "    mse = (y-yd)**2\n",
        "    return mse"
      ],
      "execution_count": null,
      "outputs": []
    },
    {
      "cell_type": "code",
      "metadata": {
        "id": "Q7uGbOTV-d2a"
      },
      "source": [
        "def calc_dw(x, yhat, y, D):\n",
        "    dw = np.zeros(D+1, )\n",
        "    com = -2*(y-yhat)\n",
        "    dw[0]+=com\n",
        "    for d in range(1, D+1):\n",
        "        dw[d] +=com*np.power(x, d)/np.power(2*np.pi, d)\n",
        "    return dw"
      ],
      "execution_count": null,
      "outputs": []
    },
    {
      "cell_type": "code",
      "metadata": {
        "id": "N-R_8Q_o-d2b"
      },
      "source": [
        "def update_w(w, dw, eta):\n",
        "    w = w-dw*eta\n",
        "    return w"
      ],
      "execution_count": null,
      "outputs": []
    },
    {
      "cell_type": "code",
      "metadata": {
        "id": "SYy1NbIr-d2b"
      },
      "source": [
        "def train_w(x, yd, w, Nepoch, eta):\n",
        "    N = x.shape[0]\n",
        "    D = w.shape[0]-1\n",
        "    for epoch in range(Nepoch):\n",
        "        for s in range(N):\n",
        "            yhat = predict_y(w, x[s])\n",
        "            dw = calc_dw(x[s], yhat, yd[s], D)\n",
        "            w = update_w(w, dw, eta)\n",
        "    return w"
      ],
      "execution_count": null,
      "outputs": []
    },
    {
      "cell_type": "code",
      "metadata": {
        "id": "220bX9MV-d2c"
      },
      "source": [
        "def trainmodel(N, D):\n",
        "    x, yd = generateX_fx(N)\n",
        "    w = init_w(D)\n",
        "    Nepoch = 1000\n",
        "    eta = 0.01\n",
        "    w = train_w(x, yd, w, Nepoch, eta)\n",
        "    mse = 0\n",
        "    y = []\n",
        "    for  s in range(N):\n",
        "        y.append(predict_y(w, x[s]))\n",
        "        mse+= compute_mse(y[s], yd[s])\n",
        "    mse = mse/N\n",
        "    y = np.array(y)\n",
        "    return x, y, yd, w, mse"
      ],
      "execution_count": null,
      "outputs": []
    },
    {
      "cell_type": "code",
      "metadata": {
        "id": "25nSwcAU-d2c"
      },
      "source": [
        "x, y, yd, w, mse = trainmodel(50, 8)"
      ],
      "execution_count": null,
      "outputs": []
    },
    {
      "cell_type": "code",
      "metadata": {
        "id": "qTb2lev8-d2d",
        "outputId": "d9ce4de2-0a2e-4e44-f874-dc44823a7049"
      },
      "source": [
        "mse"
      ],
      "execution_count": null,
      "outputs": [
        {
          "output_type": "execute_result",
          "data": {
            "text/plain": [
              "0.05068381265836933"
            ]
          },
          "metadata": {
            "tags": []
          },
          "execution_count": 20
        }
      ]
    },
    {
      "cell_type": "code",
      "metadata": {
        "id": "eDd6sVrq-d2d"
      },
      "source": [
        "def plotmodel(x, y, yd):\n",
        "    i = x.argsort()\n",
        "    plt.figure()\n",
        "    plt.plot(x[i],y[i],'g-o')\n",
        "    plt.plot(x[i],yd[i],'r-o')\n",
        "    plt.ylabel(\"f(x)\")\n",
        "    plt.xlabel(\"x\")\n",
        "    plt.legend(['estimated', 'true'])\n",
        "    plt.xlim([0, 7])\n",
        "    plt.title(\"comparision\")"
      ],
      "execution_count": null,
      "outputs": []
    },
    {
      "cell_type": "code",
      "metadata": {
        "id": "sJycAOpx-d2e",
        "outputId": "c4dc0e69-0614-4168-a1f7-08381ad9a687"
      },
      "source": [
        "plotmodel(x, y, yd)"
      ],
      "execution_count": null,
      "outputs": [
        {
          "output_type": "display_data",
          "data": {
            "image/png": "[encoded data removed]",
            "text/plain": [
              "<Figure size 432x288 with 1 Axes>"
            ]
          },
          "metadata": {
            "tags": [],
            "needs_background": "light"
          }
        }
      ]
    },
    {
      "cell_type": "code",
      "metadata": {
        "id": "4q3R_l_6-d2e"
      },
      "source": [
        ""
      ],
      "execution_count": null,
      "outputs": []
    },
    {
      "cell_type": "code",
      "metadata": {
        "id": "zZq__Y_I-d2f"
      },
      "source": [
        ""
      ],
      "execution_count": null,
      "outputs": []
    }
  ]
}