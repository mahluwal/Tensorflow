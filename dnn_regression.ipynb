{
  "nbformat": 4,
  "nbformat_minor": 0,
  "metadata": {
    "kernelspec": {
      "display_name": "Python 3",
      "language": "python",
      "name": "python3"
    },
    "language_info": {
      "codemirror_mode": {
        "name": "ipython",
        "version": 3
      },
      "file_extension": ".py",
      "mimetype": "text/x-python",
      "name": "python",
      "nbconvert_exporter": "python",
      "pygments_lexer": "ipython3",
      "version": "3.6.8"
    },
    "colab": {
      "name": "dnn regression.ipynb",
      "provenance": [],
      "include_colab_link": true
    }
  },
  "cells": [
    {
      "cell_type": "markdown",
      "metadata": {
        "id": "view-in-github",
        "colab_type": "text"
      },
      "source": [
        "<a href=\"https://colab.research.google.com/github/mahluwal/Tensorflow/blob/master/dnn_regression.ipynb\" target=\"_parent\"><img src=\"https://colab.research.google.com/assets/colab-badge.svg\" alt=\"Open In Colab\"/></a>"
      ]
    },
    {
      "cell_type": "code",
      "metadata": {
        "id": "bVOvJqURukWy"
      },
      "source": [
        "import pandas as pd\n",
        "import numpy as np\n",
        "import matplotlib.pyplot as plt"
      ],
      "execution_count": 1,
      "outputs": []
    },
    {
      "cell_type": "code",
      "metadata": {
        "id": "oyV5hftaukW4"
      },
      "source": [
        "column_names = ['CRIM', 'ZN', 'INDUS', 'CHAS', 'NOX', 'RM', 'AGE', 'DIS', 'RAD', 'TAX', 'PTRATIO', 'B', 'LSTAT', 'MEDV']"
      ],
      "execution_count": 2,
      "outputs": []
    },
    {
      "cell_type": "code",
      "metadata": {
        "id": "EvwL5d0QukW6"
      },
      "source": [
        "df = pd.read_csv(\"https://raw.githubusercontent.com/mahluwal/Data1/main/housing.data\", sep = \"\\s+\", header = None, names = column_names)"
      ],
      "execution_count": 3,
      "outputs": []
    },
    {
      "cell_type": "code",
      "metadata": {
        "id": "q6a5waEpukW7"
      },
      "source": [
        "import pandas\n",
        "from keras.models import Sequential\n",
        "from keras.layers import Dense"
      ],
      "execution_count": 4,
      "outputs": []
    },
    {
      "cell_type": "code",
      "metadata": {
        "id": "qJ9Az6IvukW9"
      },
      "source": [
        "X = df[['CRIM', 'ZN', 'INDUS', 'CHAS', 'NOX', 'RM', 'AGE', 'DIS', 'RAD', 'TAX', 'PTRATIO', 'B', 'LSTAT']]\n",
        "Y = df['MEDV']"
      ],
      "execution_count": 5,
      "outputs": []
    },
    {
      "cell_type": "code",
      "metadata": {
        "id": "ofRHqV4uukW_"
      },
      "source": [
        "from sklearn.model_selection import train_test_split\n",
        "X_train, X_test, y_train, y_test = train_test_split(X, Y, test_size=0.33, random_state=42)"
      ],
      "execution_count": 6,
      "outputs": []
    },
    {
      "cell_type": "code",
      "metadata": {
        "id": "mRmMo0BjukXA"
      },
      "source": [
        "from sklearn.preprocessing import StandardScaler\n",
        "sc = StandardScaler()\n",
        "X_train = sc.fit_transform(X_train)\n",
        "X_test = sc.transform(X_test)"
      ],
      "execution_count": 7,
      "outputs": []
    },
    {
      "cell_type": "code",
      "metadata": {
        "colab": {
          "base_uri": "https://localhost:8080/"
        },
        "id": "rvTvYkAHukXC",
        "outputId": "ed966142-119f-4a88-9924-c4868472f812"
      },
      "source": [
        "model = Sequential()\n",
        "model.add(Dense(13, input_dim=13, kernel_initializer='normal', activation='relu'))\n",
        "model.add(Dense(8, activation='relu'))\n",
        "model.add(Dense(1, activation='linear'))\n",
        "model.summary()"
      ],
      "execution_count": 8,
      "outputs": [
        {
          "output_type": "stream",
          "text": [
            "Model: \"sequential\"\n",
            "_________________________________________________________________\n",
            "Layer (type)                 Output Shape              Param #   \n",
            "=================================================================\n",
            "dense (Dense)                (None, 13)                182       \n",
            "_________________________________________________________________\n",
            "dense_1 (Dense)              (None, 8)                 112       \n",
            "_________________________________________________________________\n",
            "dense_2 (Dense)              (None, 1)                 9         \n",
            "=================================================================\n",
            "Total params: 303\n",
            "Trainable params: 303\n",
            "Non-trainable params: 0\n",
            "_________________________________________________________________\n"
          ],
          "name": "stdout"
        }
      ]
    },
    {
      "cell_type": "code",
      "metadata": {
        "id": "1D9KPx2zukXE"
      },
      "source": [
        "model.compile(loss='mse', optimizer='adam', metrics=['mse','mae'])"
      ],
      "execution_count": 9,
      "outputs": []
    },
    {
      "cell_type": "code",
      "metadata": {
        "colab": {
          "base_uri": "https://localhost:8080/"
        },
        "id": "jPOv_J12ukXG",
        "outputId": "7d124ada-1451-48bf-874c-1a906434c46a"
      },
      "source": [
        "history = model.fit(X_train, y_train, epochs=150, batch_size=50,  verbose=1, validation_split=0.2)"
      ],
      "execution_count": 11,
      "outputs": [
        {
          "output_type": "stream",
          "text": [
            "Epoch 1/150\n",
            "6/6 [==============================] - 0s 5ms/step - loss: 584.4471 - mse: 584.4471 - mae: 22.3415 - val_loss: 557.2640 - val_mse: 557.2639 - val_mae: 22.1186\n",
            "Epoch 2/150\n",
            "6/6 [==============================] - 0s 5ms/step - loss: 579.6429 - mse: 579.6429 - mae: 22.2518 - val_loss: 552.5993 - val_mse: 552.5993 - val_mae: 22.0261\n",
            "Epoch 3/150\n",
            "6/6 [==============================] - 0s 6ms/step - loss: 574.2116 - mse: 574.2116 - mae: 22.1512 - val_loss: 547.6440 - val_mse: 547.6440 - val_mae: 21.9272\n",
            "Epoch 4/150\n",
            "6/6 [==============================] - 0s 5ms/step - loss: 568.6683 - mse: 568.6682 - mae: 22.0470 - val_loss: 542.1567 - val_mse: 542.1567 - val_mae: 21.8170\n",
            "Epoch 5/150\n",
            "6/6 [==============================] - 0s 5ms/step - loss: 562.3557 - mse: 562.3557 - mae: 21.9272 - val_loss: 536.2817 - val_mse: 536.2817 - val_mae: 21.6985\n",
            "Epoch 6/150\n",
            "6/6 [==============================] - 0s 5ms/step - loss: 555.5739 - mse: 555.5739 - mae: 21.7984 - val_loss: 529.9294 - val_mse: 529.9295 - val_mae: 21.5691\n",
            "Epoch 7/150\n",
            "6/6 [==============================] - 0s 6ms/step - loss: 548.1736 - mse: 548.1736 - mae: 21.6578 - val_loss: 523.1271 - val_mse: 523.1271 - val_mae: 21.4294\n",
            "Epoch 8/150\n",
            "6/6 [==============================] - 0s 6ms/step - loss: 540.5966 - mse: 540.5966 - mae: 21.5104 - val_loss: 515.7161 - val_mse: 515.7161 - val_mae: 21.2757\n",
            "Epoch 9/150\n",
            "6/6 [==============================] - 0s 7ms/step - loss: 532.1490 - mse: 532.1490 - mae: 21.3449 - val_loss: 507.9713 - val_mse: 507.9713 - val_mae: 21.1135\n",
            "Epoch 10/150\n",
            "6/6 [==============================] - 0s 6ms/step - loss: 523.2767 - mse: 523.2767 - mae: 21.1742 - val_loss: 499.8829 - val_mse: 499.8829 - val_mae: 20.9411\n",
            "Epoch 11/150\n",
            "6/6 [==============================] - 0s 5ms/step - loss: 514.1528 - mse: 514.1528 - mae: 20.9897 - val_loss: 491.3230 - val_mse: 491.3230 - val_mae: 20.7563\n",
            "Epoch 12/150\n",
            "6/6 [==============================] - 0s 6ms/step - loss: 504.6876 - mse: 504.6876 - mae: 20.7946 - val_loss: 482.1213 - val_mse: 482.1213 - val_mae: 20.5548\n",
            "Epoch 13/150\n",
            "6/6 [==============================] - 0s 5ms/step - loss: 494.1055 - mse: 494.1055 - mae: 20.5775 - val_loss: 472.7481 - val_mse: 472.7481 - val_mae: 20.3453\n",
            "Epoch 14/150\n",
            "6/6 [==============================] - 0s 6ms/step - loss: 483.4128 - mse: 483.4128 - mae: 20.3531 - val_loss: 463.0220 - val_mse: 463.0220 - val_mae: 20.1243\n",
            "Epoch 15/150\n",
            "6/6 [==============================] - 0s 6ms/step - loss: 472.6189 - mse: 472.6189 - mae: 20.1184 - val_loss: 452.6606 - val_mse: 452.6606 - val_mae: 19.8842\n",
            "Epoch 16/150\n",
            "6/6 [==============================] - 0s 5ms/step - loss: 460.5604 - mse: 460.5604 - mae: 19.8544 - val_loss: 441.9780 - val_mse: 441.9780 - val_mae: 19.6311\n",
            "Epoch 17/150\n",
            "6/6 [==============================] - 0s 6ms/step - loss: 448.6427 - mse: 448.6427 - mae: 19.5901 - val_loss: 430.7488 - val_mse: 430.7488 - val_mae: 19.3587\n",
            "Epoch 18/150\n",
            "6/6 [==============================] - 0s 7ms/step - loss: 436.4357 - mse: 436.4357 - mae: 19.3022 - val_loss: 419.1450 - val_mse: 419.1450 - val_mae: 19.0704\n",
            "Epoch 19/150\n",
            "6/6 [==============================] - 0s 5ms/step - loss: 423.4076 - mse: 423.4076 - mae: 19.0000 - val_loss: 407.5781 - val_mse: 407.5781 - val_mae: 18.7754\n",
            "Epoch 20/150\n",
            "6/6 [==============================] - 0s 5ms/step - loss: 410.3180 - mse: 410.3180 - mae: 18.6817 - val_loss: 395.8523 - val_mse: 395.8523 - val_mae: 18.4671\n",
            "Epoch 21/150\n",
            "6/6 [==============================] - 0s 5ms/step - loss: 397.4781 - mse: 397.4781 - mae: 18.3567 - val_loss: 383.9099 - val_mse: 383.9099 - val_mae: 18.1435\n",
            "Epoch 22/150\n",
            "6/6 [==============================] - 0s 5ms/step - loss: 384.3574 - mse: 384.3574 - mae: 18.0173 - val_loss: 371.8664 - val_mse: 371.8664 - val_mae: 17.8046\n",
            "Epoch 23/150\n",
            "6/6 [==============================] - 0s 5ms/step - loss: 370.9961 - mse: 370.9961 - mae: 17.6545 - val_loss: 360.0994 - val_mse: 360.0994 - val_mae: 17.4617\n",
            "Epoch 24/150\n",
            "6/6 [==============================] - 0s 6ms/step - loss: 358.4918 - mse: 358.4918 - mae: 17.3008 - val_loss: 348.3031 - val_mse: 348.3031 - val_mae: 17.1037\n",
            "Epoch 25/150\n",
            "6/6 [==============================] - 0s 5ms/step - loss: 345.6874 - mse: 345.6874 - mae: 16.9159 - val_loss: 336.7943 - val_mse: 336.7943 - val_mae: 16.7393\n",
            "Epoch 26/150\n",
            "6/6 [==============================] - 0s 6ms/step - loss: 333.3130 - mse: 333.3130 - mae: 16.5373 - val_loss: 325.5760 - val_mse: 325.5760 - val_mae: 16.3690\n",
            "Epoch 27/150\n",
            "6/6 [==============================] - 0s 5ms/step - loss: 321.3410 - mse: 321.3411 - mae: 16.1515 - val_loss: 314.6973 - val_mse: 314.6973 - val_mae: 15.9923\n",
            "Epoch 28/150\n",
            "6/6 [==============================] - 0s 8ms/step - loss: 309.7729 - mse: 309.7729 - mae: 15.7614 - val_loss: 304.4406 - val_mse: 304.4406 - val_mae: 15.6200\n",
            "Epoch 29/150\n",
            "6/6 [==============================] - 0s 6ms/step - loss: 299.0805 - mse: 299.0805 - mae: 15.3916 - val_loss: 294.4587 - val_mse: 294.4587 - val_mae: 15.2401\n",
            "Epoch 30/150\n",
            "6/6 [==============================] - 0s 6ms/step - loss: 288.7117 - mse: 288.7117 - mae: 15.0293 - val_loss: 284.8976 - val_mse: 284.8976 - val_mae: 14.8555\n",
            "Epoch 31/150\n",
            "6/6 [==============================] - 0s 5ms/step - loss: 278.6557 - mse: 278.6557 - mae: 14.6656 - val_loss: 275.9065 - val_mse: 275.9065 - val_mae: 14.4982\n",
            "Epoch 32/150\n",
            "6/6 [==============================] - 0s 6ms/step - loss: 269.3211 - mse: 269.3211 - mae: 14.3264 - val_loss: 267.4695 - val_mse: 267.4695 - val_mae: 14.1521\n",
            "Epoch 33/150\n",
            "6/6 [==============================] - 0s 6ms/step - loss: 260.4201 - mse: 260.4201 - mae: 13.9984 - val_loss: 259.7166 - val_mse: 259.7166 - val_mae: 13.8155\n",
            "Epoch 34/150\n",
            "6/6 [==============================] - 0s 5ms/step - loss: 252.4781 - mse: 252.4781 - mae: 13.7065 - val_loss: 252.4573 - val_mse: 252.4573 - val_mae: 13.4916\n",
            "Epoch 35/150\n",
            "6/6 [==============================] - 0s 5ms/step - loss: 245.0536 - mse: 245.0536 - mae: 13.4461 - val_loss: 245.6284 - val_mse: 245.6284 - val_mae: 13.1856\n",
            "Epoch 36/150\n",
            "6/6 [==============================] - 0s 6ms/step - loss: 238.2464 - mse: 238.2464 - mae: 13.1928 - val_loss: 239.3288 - val_mse: 239.3288 - val_mae: 12.9007\n",
            "Epoch 37/150\n",
            "6/6 [==============================] - 0s 5ms/step - loss: 231.6385 - mse: 231.6385 - mae: 12.9655 - val_loss: 233.7046 - val_mse: 233.7046 - val_mae: 12.6422\n",
            "Epoch 38/150\n",
            "6/6 [==============================] - 0s 5ms/step - loss: 225.9892 - mse: 225.9892 - mae: 12.7624 - val_loss: 228.4256 - val_mse: 228.4256 - val_mae: 12.3932\n",
            "Epoch 39/150\n",
            "6/6 [==============================] - 0s 5ms/step - loss: 220.6982 - mse: 220.6982 - mae: 12.5653 - val_loss: 223.5426 - val_mse: 223.5426 - val_mae: 12.1785\n",
            "Epoch 40/150\n",
            "6/6 [==============================] - 0s 5ms/step - loss: 215.7461 - mse: 215.7461 - mae: 12.3857 - val_loss: 219.0919 - val_mse: 219.0919 - val_mae: 11.9722\n",
            "Epoch 41/150\n",
            "6/6 [==============================] - 0s 6ms/step - loss: 211.1544 - mse: 211.1544 - mae: 12.2095 - val_loss: 215.0482 - val_mse: 215.0482 - val_mae: 11.7792\n",
            "Epoch 42/150\n",
            "6/6 [==============================] - 0s 5ms/step - loss: 206.8792 - mse: 206.8792 - mae: 12.0546 - val_loss: 211.1674 - val_mse: 211.1674 - val_mae: 11.5863\n",
            "Epoch 43/150\n",
            "6/6 [==============================] - 0s 6ms/step - loss: 203.0101 - mse: 203.0101 - mae: 11.9069 - val_loss: 207.5573 - val_mse: 207.5573 - val_mae: 11.4150\n",
            "Epoch 44/150\n",
            "6/6 [==============================] - 0s 5ms/step - loss: 199.1816 - mse: 199.1816 - mae: 11.7582 - val_loss: 204.2802 - val_mse: 204.2802 - val_mae: 11.2675\n",
            "Epoch 45/150\n",
            "6/6 [==============================] - 0s 7ms/step - loss: 195.9571 - mse: 195.9571 - mae: 11.6323 - val_loss: 201.0298 - val_mse: 201.0298 - val_mae: 11.1282\n",
            "Epoch 46/150\n",
            "6/6 [==============================] - 0s 5ms/step - loss: 192.3499 - mse: 192.3499 - mae: 11.4853 - val_loss: 198.1661 - val_mse: 198.1661 - val_mae: 11.0089\n",
            "Epoch 47/150\n",
            "6/6 [==============================] - 0s 6ms/step - loss: 189.3053 - mse: 189.3053 - mae: 11.3613 - val_loss: 195.3370 - val_mse: 195.3370 - val_mae: 10.8869\n",
            "Epoch 48/150\n",
            "6/6 [==============================] - 0s 5ms/step - loss: 186.2193 - mse: 186.2193 - mae: 11.2360 - val_loss: 192.6155 - val_mse: 192.6155 - val_mae: 10.7688\n",
            "Epoch 49/150\n",
            "6/6 [==============================] - 0s 6ms/step - loss: 183.1533 - mse: 183.1533 - mae: 11.1119 - val_loss: 190.1723 - val_mse: 190.1723 - val_mae: 10.6763\n",
            "Epoch 50/150\n",
            "6/6 [==============================] - 0s 7ms/step - loss: 180.5399 - mse: 180.5399 - mae: 10.9913 - val_loss: 187.6410 - val_mse: 187.6410 - val_mae: 10.5876\n",
            "Epoch 51/150\n",
            "6/6 [==============================] - 0s 6ms/step - loss: 177.7942 - mse: 177.7942 - mae: 10.8712 - val_loss: 185.2522 - val_mse: 185.2522 - val_mae: 10.4997\n",
            "Epoch 52/150\n",
            "6/6 [==============================] - 0s 6ms/step - loss: 175.1804 - mse: 175.1804 - mae: 10.7572 - val_loss: 183.0145 - val_mse: 183.0145 - val_mae: 10.4134\n",
            "Epoch 53/150\n",
            "6/6 [==============================] - 0s 5ms/step - loss: 172.6242 - mse: 172.6242 - mae: 10.6412 - val_loss: 180.8366 - val_mse: 180.8366 - val_mae: 10.3270\n",
            "Epoch 54/150\n",
            "6/6 [==============================] - 0s 6ms/step - loss: 170.2857 - mse: 170.2857 - mae: 10.5309 - val_loss: 178.6714 - val_mse: 178.6714 - val_mae: 10.2461\n",
            "Epoch 55/150\n",
            "6/6 [==============================] - 0s 5ms/step - loss: 167.8168 - mse: 167.8168 - mae: 10.4242 - val_loss: 176.7007 - val_mse: 176.7007 - val_mae: 10.1808\n",
            "Epoch 56/150\n",
            "6/6 [==============================] - 0s 5ms/step - loss: 165.5267 - mse: 165.5267 - mae: 10.3180 - val_loss: 174.7832 - val_mse: 174.7832 - val_mae: 10.1160\n",
            "Epoch 57/150\n",
            "6/6 [==============================] - 0s 8ms/step - loss: 163.2603 - mse: 163.2603 - mae: 10.2092 - val_loss: 172.8661 - val_mse: 172.8661 - val_mae: 10.0507\n",
            "Epoch 58/150\n",
            "6/6 [==============================] - 0s 6ms/step - loss: 160.9947 - mse: 160.9947 - mae: 10.1109 - val_loss: 170.9947 - val_mse: 170.9947 - val_mae: 9.9854\n",
            "Epoch 59/150\n",
            "6/6 [==============================] - 0s 6ms/step - loss: 158.8482 - mse: 158.8482 - mae: 10.0099 - val_loss: 169.2321 - val_mse: 169.2321 - val_mae: 9.9156\n",
            "Epoch 60/150\n",
            "6/6 [==============================] - 0s 6ms/step - loss: 156.7031 - mse: 156.7030 - mae: 9.9065 - val_loss: 167.4963 - val_mse: 167.4963 - val_mae: 9.8482\n",
            "Epoch 61/150\n",
            "6/6 [==============================] - 0s 6ms/step - loss: 154.7419 - mse: 154.7419 - mae: 9.8104 - val_loss: 165.7610 - val_mse: 165.7610 - val_mae: 9.7752\n",
            "Epoch 62/150\n",
            "6/6 [==============================] - 0s 5ms/step - loss: 152.6652 - mse: 152.6652 - mae: 9.7073 - val_loss: 164.0829 - val_mse: 164.0829 - val_mae: 9.7063\n",
            "Epoch 63/150\n",
            "6/6 [==============================] - 0s 7ms/step - loss: 150.6056 - mse: 150.6056 - mae: 9.6096 - val_loss: 162.4611 - val_mse: 162.4611 - val_mae: 9.6441\n",
            "Epoch 64/150\n",
            "6/6 [==============================] - 0s 5ms/step - loss: 148.5834 - mse: 148.5834 - mae: 9.5137 - val_loss: 160.9291 - val_mse: 160.9291 - val_mae: 9.5828\n",
            "Epoch 65/150\n",
            "6/6 [==============================] - 0s 6ms/step - loss: 146.6867 - mse: 146.6867 - mae: 9.4236 - val_loss: 159.4329 - val_mse: 159.4329 - val_mae: 9.5208\n",
            "Epoch 66/150\n",
            "6/6 [==============================] - 0s 6ms/step - loss: 144.7336 - mse: 144.7336 - mae: 9.3324 - val_loss: 157.8550 - val_mse: 157.8550 - val_mae: 9.4634\n",
            "Epoch 67/150\n",
            "6/6 [==============================] - 0s 5ms/step - loss: 142.8805 - mse: 142.8805 - mae: 9.2524 - val_loss: 156.1434 - val_mse: 156.1434 - val_mae: 9.4044\n",
            "Epoch 68/150\n",
            "6/6 [==============================] - 0s 6ms/step - loss: 140.7110 - mse: 140.7110 - mae: 9.1565 - val_loss: 154.3969 - val_mse: 154.3969 - val_mae: 9.3409\n",
            "Epoch 69/150\n",
            "6/6 [==============================] - 0s 5ms/step - loss: 138.5307 - mse: 138.5307 - mae: 9.0699 - val_loss: 152.4497 - val_mse: 152.4498 - val_mae: 9.2695\n",
            "Epoch 70/150\n",
            "6/6 [==============================] - 0s 7ms/step - loss: 136.1211 - mse: 136.1211 - mae: 8.9691 - val_loss: 150.2727 - val_mse: 150.2727 - val_mae: 9.1889\n",
            "Epoch 71/150\n",
            "6/6 [==============================] - 0s 5ms/step - loss: 133.5801 - mse: 133.5801 - mae: 8.8633 - val_loss: 147.7848 - val_mse: 147.7848 - val_mae: 9.0966\n",
            "Epoch 72/150\n",
            "6/6 [==============================] - 0s 6ms/step - loss: 130.7153 - mse: 130.7153 - mae: 8.7517 - val_loss: 145.0160 - val_mse: 145.0160 - val_mae: 8.9975\n",
            "Epoch 73/150\n",
            "6/6 [==============================] - 0s 6ms/step - loss: 127.5225 - mse: 127.5225 - mae: 8.6126 - val_loss: 141.9575 - val_mse: 141.9575 - val_mae: 8.8905\n",
            "Epoch 74/150\n",
            "6/6 [==============================] - 0s 6ms/step - loss: 124.0416 - mse: 124.0416 - mae: 8.4667 - val_loss: 138.6073 - val_mse: 138.6073 - val_mae: 8.7728\n",
            "Epoch 75/150\n",
            "6/6 [==============================] - 0s 6ms/step - loss: 120.3537 - mse: 120.3537 - mae: 8.3235 - val_loss: 134.9775 - val_mse: 134.9775 - val_mae: 8.6464\n",
            "Epoch 76/150\n",
            "6/6 [==============================] - 0s 6ms/step - loss: 116.3789 - mse: 116.3789 - mae: 8.1513 - val_loss: 131.0813 - val_mse: 131.0813 - val_mae: 8.5075\n",
            "Epoch 77/150\n",
            "6/6 [==============================] - 0s 6ms/step - loss: 112.3803 - mse: 112.3803 - mae: 7.9782 - val_loss: 127.0065 - val_mse: 127.0065 - val_mae: 8.3575\n",
            "Epoch 78/150\n",
            "6/6 [==============================] - 0s 5ms/step - loss: 107.9732 - mse: 107.9732 - mae: 7.7983 - val_loss: 122.8830 - val_mse: 122.8830 - val_mae: 8.1995\n",
            "Epoch 79/150\n",
            "6/6 [==============================] - 0s 6ms/step - loss: 103.7430 - mse: 103.7430 - mae: 7.5990 - val_loss: 118.5162 - val_mse: 118.5162 - val_mae: 8.0284\n",
            "Epoch 80/150\n",
            "6/6 [==============================] - 0s 6ms/step - loss: 99.4107 - mse: 99.4107 - mae: 7.4045 - val_loss: 114.1229 - val_mse: 114.1229 - val_mae: 7.8486\n",
            "Epoch 81/150\n",
            "6/6 [==============================] - 0s 6ms/step - loss: 94.9597 - mse: 94.9597 - mae: 7.1974 - val_loss: 109.6889 - val_mse: 109.6889 - val_mae: 7.6609\n",
            "Epoch 82/150\n",
            "6/6 [==============================] - 0s 6ms/step - loss: 90.3844 - mse: 90.3844 - mae: 6.9833 - val_loss: 105.3126 - val_mse: 105.3126 - val_mae: 7.4646\n",
            "Epoch 83/150\n",
            "6/6 [==============================] - 0s 5ms/step - loss: 86.1786 - mse: 86.1786 - mae: 6.7752 - val_loss: 100.8770 - val_mse: 100.8770 - val_mae: 7.2823\n",
            "Epoch 84/150\n",
            "6/6 [==============================] - 0s 8ms/step - loss: 81.7998 - mse: 81.7998 - mae: 6.5574 - val_loss: 96.7186 - val_mse: 96.7186 - val_mae: 7.1214\n",
            "Epoch 85/150\n",
            "6/6 [==============================] - 0s 5ms/step - loss: 77.6224 - mse: 77.6224 - mae: 6.3665 - val_loss: 92.6518 - val_mse: 92.6518 - val_mae: 6.9654\n",
            "Epoch 86/150\n",
            "6/6 [==============================] - 0s 5ms/step - loss: 73.7572 - mse: 73.7572 - mae: 6.1931 - val_loss: 88.6971 - val_mse: 88.6971 - val_mae: 6.8038\n",
            "Epoch 87/150\n",
            "6/6 [==============================] - 0s 5ms/step - loss: 69.9963 - mse: 69.9963 - mae: 6.0098 - val_loss: 84.8735 - val_mse: 84.8735 - val_mae: 6.6436\n",
            "Epoch 88/150\n",
            "6/6 [==============================] - 0s 6ms/step - loss: 66.6882 - mse: 66.6882 - mae: 5.8580 - val_loss: 81.2294 - val_mse: 81.2294 - val_mae: 6.4848\n",
            "Epoch 89/150\n",
            "6/6 [==============================] - 0s 10ms/step - loss: 63.4102 - mse: 63.4102 - mae: 5.7012 - val_loss: 77.8729 - val_mse: 77.8729 - val_mae: 6.3226\n",
            "Epoch 90/150\n",
            "6/6 [==============================] - 0s 6ms/step - loss: 60.4819 - mse: 60.4819 - mae: 5.5608 - val_loss: 74.9320 - val_mse: 74.9320 - val_mae: 6.1826\n",
            "Epoch 91/150\n",
            "6/6 [==============================] - 0s 5ms/step - loss: 57.9352 - mse: 57.9352 - mae: 5.4341 - val_loss: 72.3398 - val_mse: 72.3398 - val_mae: 6.0730\n",
            "Epoch 92/150\n",
            "6/6 [==============================] - 0s 6ms/step - loss: 55.5718 - mse: 55.5718 - mae: 5.3165 - val_loss: 69.8314 - val_mse: 69.8314 - val_mae: 5.9507\n",
            "Epoch 93/150\n",
            "6/6 [==============================] - 0s 5ms/step - loss: 53.5369 - mse: 53.5369 - mae: 5.2184 - val_loss: 67.5210 - val_mse: 67.5210 - val_mae: 5.8290\n",
            "Epoch 94/150\n",
            "6/6 [==============================] - 0s 6ms/step - loss: 51.8562 - mse: 51.8562 - mae: 5.1349 - val_loss: 65.4865 - val_mse: 65.4865 - val_mae: 5.7291\n",
            "Epoch 95/150\n",
            "6/6 [==============================] - 0s 6ms/step - loss: 50.1954 - mse: 50.1954 - mae: 5.0577 - val_loss: 63.4668 - val_mse: 63.4668 - val_mae: 5.6117\n",
            "Epoch 96/150\n",
            "6/6 [==============================] - 0s 6ms/step - loss: 48.5436 - mse: 48.5436 - mae: 4.9621 - val_loss: 61.8347 - val_mse: 61.8347 - val_mae: 5.5292\n",
            "Epoch 97/150\n",
            "6/6 [==============================] - 0s 6ms/step - loss: 47.2014 - mse: 47.2014 - mae: 4.9050 - val_loss: 60.3240 - val_mse: 60.3240 - val_mae: 5.4537\n",
            "Epoch 98/150\n",
            "6/6 [==============================] - 0s 5ms/step - loss: 46.1071 - mse: 46.1071 - mae: 4.8582 - val_loss: 58.9331 - val_mse: 58.9331 - val_mae: 5.3856\n",
            "Epoch 99/150\n",
            "6/6 [==============================] - 0s 6ms/step - loss: 44.8376 - mse: 44.8376 - mae: 4.8085 - val_loss: 57.8224 - val_mse: 57.8224 - val_mae: 5.3280\n",
            "Epoch 100/150\n",
            "6/6 [==============================] - 0s 5ms/step - loss: 43.8344 - mse: 43.8344 - mae: 4.7529 - val_loss: 56.5027 - val_mse: 56.5027 - val_mae: 5.2336\n",
            "Epoch 101/150\n",
            "6/6 [==============================] - 0s 7ms/step - loss: 42.9389 - mse: 42.9389 - mae: 4.6915 - val_loss: 55.2632 - val_mse: 55.2632 - val_mae: 5.1550\n",
            "Epoch 102/150\n",
            "6/6 [==============================] - 0s 7ms/step - loss: 42.0930 - mse: 42.0930 - mae: 4.6312 - val_loss: 54.1195 - val_mse: 54.1195 - val_mae: 5.0803\n",
            "Epoch 103/150\n",
            "6/6 [==============================] - 0s 6ms/step - loss: 41.2949 - mse: 41.2949 - mae: 4.5823 - val_loss: 53.1214 - val_mse: 53.1214 - val_mae: 5.0216\n",
            "Epoch 104/150\n",
            "6/6 [==============================] - 0s 7ms/step - loss: 40.5357 - mse: 40.5357 - mae: 4.5315 - val_loss: 52.2939 - val_mse: 52.2939 - val_mae: 4.9716\n",
            "Epoch 105/150\n",
            "6/6 [==============================] - 0s 7ms/step - loss: 39.9039 - mse: 39.9039 - mae: 4.4954 - val_loss: 51.6270 - val_mse: 51.6270 - val_mae: 4.9429\n",
            "Epoch 106/150\n",
            "6/6 [==============================] - 0s 7ms/step - loss: 39.2483 - mse: 39.2483 - mae: 4.4618 - val_loss: 50.9122 - val_mse: 50.9122 - val_mae: 4.8991\n",
            "Epoch 107/150\n",
            "6/6 [==============================] - 0s 7ms/step - loss: 38.6529 - mse: 38.6529 - mae: 4.4301 - val_loss: 50.2950 - val_mse: 50.2950 - val_mae: 4.8609\n",
            "Epoch 108/150\n",
            "6/6 [==============================] - 0s 7ms/step - loss: 38.0856 - mse: 38.0856 - mae: 4.3939 - val_loss: 49.6742 - val_mse: 49.6742 - val_mae: 4.8174\n",
            "Epoch 109/150\n",
            "6/6 [==============================] - 0s 7ms/step - loss: 37.5979 - mse: 37.5979 - mae: 4.3572 - val_loss: 48.9541 - val_mse: 48.9541 - val_mae: 4.7664\n",
            "Epoch 110/150\n",
            "6/6 [==============================] - 0s 6ms/step - loss: 37.1013 - mse: 37.1013 - mae: 4.3229 - val_loss: 48.4341 - val_mse: 48.4341 - val_mae: 4.7380\n",
            "Epoch 111/150\n",
            "6/6 [==============================] - 0s 6ms/step - loss: 36.5454 - mse: 36.5454 - mae: 4.2897 - val_loss: 47.8969 - val_mse: 47.8969 - val_mae: 4.7054\n",
            "Epoch 112/150\n",
            "6/6 [==============================] - 0s 7ms/step - loss: 36.1161 - mse: 36.1161 - mae: 4.2588 - val_loss: 47.3508 - val_mse: 47.3508 - val_mae: 4.6764\n",
            "Epoch 113/150\n",
            "6/6 [==============================] - 0s 9ms/step - loss: 35.6000 - mse: 35.6000 - mae: 4.2304 - val_loss: 46.7702 - val_mse: 46.7702 - val_mae: 4.6459\n",
            "Epoch 114/150\n",
            "6/6 [==============================] - 0s 5ms/step - loss: 35.1952 - mse: 35.1952 - mae: 4.2151 - val_loss: 46.3129 - val_mse: 46.3129 - val_mae: 4.6253\n",
            "Epoch 115/150\n",
            "6/6 [==============================] - 0s 6ms/step - loss: 34.7851 - mse: 34.7851 - mae: 4.2027 - val_loss: 45.8564 - val_mse: 45.8564 - val_mae: 4.5996\n",
            "Epoch 116/150\n",
            "6/6 [==============================] - 0s 6ms/step - loss: 34.3720 - mse: 34.3720 - mae: 4.1813 - val_loss: 45.4338 - val_mse: 45.4338 - val_mae: 4.5718\n",
            "Epoch 117/150\n",
            "6/6 [==============================] - 0s 5ms/step - loss: 34.0016 - mse: 34.0016 - mae: 4.1524 - val_loss: 44.9903 - val_mse: 44.9903 - val_mae: 4.5410\n",
            "Epoch 118/150\n",
            "6/6 [==============================] - 0s 6ms/step - loss: 33.6127 - mse: 33.6127 - mae: 4.1238 - val_loss: 44.5913 - val_mse: 44.5913 - val_mae: 4.5117\n",
            "Epoch 119/150\n",
            "6/6 [==============================] - 0s 9ms/step - loss: 33.2833 - mse: 33.2833 - mae: 4.1001 - val_loss: 44.3441 - val_mse: 44.3441 - val_mae: 4.4954\n",
            "Epoch 120/150\n",
            "6/6 [==============================] - 0s 5ms/step - loss: 32.9740 - mse: 32.9740 - mae: 4.0834 - val_loss: 44.0810 - val_mse: 44.0810 - val_mae: 4.4786\n",
            "Epoch 121/150\n",
            "6/6 [==============================] - 0s 6ms/step - loss: 32.6546 - mse: 32.6546 - mae: 4.0673 - val_loss: 43.8252 - val_mse: 43.8252 - val_mae: 4.4610\n",
            "Epoch 122/150\n",
            "6/6 [==============================] - 0s 7ms/step - loss: 32.3143 - mse: 32.3143 - mae: 4.0433 - val_loss: 43.5439 - val_mse: 43.5439 - val_mae: 4.4450\n",
            "Epoch 123/150\n",
            "6/6 [==============================] - 0s 5ms/step - loss: 32.0912 - mse: 32.0912 - mae: 4.0216 - val_loss: 43.0838 - val_mse: 43.0838 - val_mae: 4.4164\n",
            "Epoch 124/150\n",
            "6/6 [==============================] - 0s 5ms/step - loss: 31.7344 - mse: 31.7344 - mae: 3.9979 - val_loss: 42.7684 - val_mse: 42.7684 - val_mae: 4.3977\n",
            "Epoch 125/150\n",
            "6/6 [==============================] - 0s 5ms/step - loss: 31.4679 - mse: 31.4679 - mae: 3.9870 - val_loss: 42.6271 - val_mse: 42.6271 - val_mae: 4.3909\n",
            "Epoch 126/150\n",
            "6/6 [==============================] - 0s 6ms/step - loss: 31.1515 - mse: 31.1515 - mae: 3.9754 - val_loss: 42.3741 - val_mse: 42.3741 - val_mae: 4.3765\n",
            "Epoch 127/150\n",
            "6/6 [==============================] - 0s 6ms/step - loss: 30.9097 - mse: 30.9097 - mae: 3.9587 - val_loss: 41.9177 - val_mse: 41.9177 - val_mae: 4.3483\n",
            "Epoch 128/150\n",
            "6/6 [==============================] - 0s 6ms/step - loss: 30.6343 - mse: 30.6343 - mae: 3.9417 - val_loss: 41.6378 - val_mse: 41.6378 - val_mae: 4.3317\n",
            "Epoch 129/150\n",
            "6/6 [==============================] - 0s 6ms/step - loss: 30.4183 - mse: 30.4183 - mae: 3.9186 - val_loss: 41.4200 - val_mse: 41.4200 - val_mae: 4.3189\n",
            "Epoch 130/150\n",
            "6/6 [==============================] - 0s 6ms/step - loss: 30.1801 - mse: 30.1801 - mae: 3.9031 - val_loss: 41.2398 - val_mse: 41.2398 - val_mae: 4.3143\n",
            "Epoch 131/150\n",
            "6/6 [==============================] - 0s 6ms/step - loss: 29.9094 - mse: 29.9094 - mae: 3.8958 - val_loss: 40.9720 - val_mse: 40.9720 - val_mae: 4.3035\n",
            "Epoch 132/150\n",
            "6/6 [==============================] - 0s 6ms/step - loss: 29.6693 - mse: 29.6693 - mae: 3.8907 - val_loss: 40.8048 - val_mse: 40.8048 - val_mae: 4.2977\n",
            "Epoch 133/150\n",
            "6/6 [==============================] - 0s 5ms/step - loss: 29.5011 - mse: 29.5011 - mae: 3.8794 - val_loss: 40.4685 - val_mse: 40.4685 - val_mae: 4.2788\n",
            "Epoch 134/150\n",
            "6/6 [==============================] - 0s 7ms/step - loss: 29.2569 - mse: 29.2569 - mae: 3.8607 - val_loss: 40.2847 - val_mse: 40.2847 - val_mae: 4.2714\n",
            "Epoch 135/150\n",
            "6/6 [==============================] - 0s 6ms/step - loss: 29.0193 - mse: 29.0193 - mae: 3.8501 - val_loss: 39.9879 - val_mse: 39.9879 - val_mae: 4.2549\n",
            "Epoch 136/150\n",
            "6/6 [==============================] - 0s 6ms/step - loss: 28.8348 - mse: 28.8348 - mae: 3.8301 - val_loss: 39.6943 - val_mse: 39.6943 - val_mae: 4.2411\n",
            "Epoch 137/150\n",
            "6/6 [==============================] - 0s 7ms/step - loss: 28.6630 - mse: 28.6630 - mae: 3.8191 - val_loss: 39.4354 - val_mse: 39.4354 - val_mae: 4.2289\n",
            "Epoch 138/150\n",
            "6/6 [==============================] - 0s 6ms/step - loss: 28.4359 - mse: 28.4359 - mae: 3.8061 - val_loss: 39.2777 - val_mse: 39.2777 - val_mae: 4.2194\n",
            "Epoch 139/150\n",
            "6/6 [==============================] - 0s 6ms/step - loss: 28.2822 - mse: 28.2822 - mae: 3.7971 - val_loss: 39.0604 - val_mse: 39.0604 - val_mae: 4.2083\n",
            "Epoch 140/150\n",
            "6/6 [==============================] - 0s 6ms/step - loss: 28.0742 - mse: 28.0742 - mae: 3.7874 - val_loss: 38.8314 - val_mse: 38.8314 - val_mae: 4.1969\n",
            "Epoch 141/150\n",
            "6/6 [==============================] - 0s 7ms/step - loss: 27.9294 - mse: 27.9294 - mae: 3.7801 - val_loss: 38.4732 - val_mse: 38.4732 - val_mae: 4.1914\n",
            "Epoch 142/150\n",
            "6/6 [==============================] - 0s 6ms/step - loss: 27.6995 - mse: 27.6995 - mae: 3.7595 - val_loss: 38.1895 - val_mse: 38.1895 - val_mae: 4.1810\n",
            "Epoch 143/150\n",
            "6/6 [==============================] - 0s 7ms/step - loss: 27.5197 - mse: 27.5197 - mae: 3.7568 - val_loss: 37.9650 - val_mse: 37.9650 - val_mae: 4.1633\n",
            "Epoch 144/150\n",
            "6/6 [==============================] - 0s 6ms/step - loss: 27.2836 - mse: 27.2836 - mae: 3.7480 - val_loss: 37.7249 - val_mse: 37.7249 - val_mae: 4.1552\n",
            "Epoch 145/150\n",
            "6/6 [==============================] - 0s 5ms/step - loss: 27.0882 - mse: 27.0882 - mae: 3.7424 - val_loss: 37.4863 - val_mse: 37.4863 - val_mae: 4.1400\n",
            "Epoch 146/150\n",
            "6/6 [==============================] - 0s 11ms/step - loss: 26.8977 - mse: 26.8977 - mae: 3.7320 - val_loss: 37.1689 - val_mse: 37.1689 - val_mae: 4.1292\n",
            "Epoch 147/150\n",
            "6/6 [==============================] - 0s 6ms/step - loss: 26.7190 - mse: 26.7190 - mae: 3.7254 - val_loss: 36.8320 - val_mse: 36.8320 - val_mae: 4.1275\n",
            "Epoch 148/150\n",
            "6/6 [==============================] - 0s 6ms/step - loss: 26.5088 - mse: 26.5088 - mae: 3.7117 - val_loss: 36.6398 - val_mse: 36.6398 - val_mae: 4.1161\n",
            "Epoch 149/150\n",
            "6/6 [==============================] - 0s 7ms/step - loss: 26.3334 - mse: 26.3334 - mae: 3.7018 - val_loss: 36.4966 - val_mse: 36.4966 - val_mae: 4.1061\n",
            "Epoch 150/150\n",
            "6/6 [==============================] - 0s 6ms/step - loss: 26.1823 - mse: 26.1823 - mae: 3.7006 - val_loss: 36.2818 - val_mse: 36.2818 - val_mae: 4.0913\n"
          ],
          "name": "stdout"
        }
      ]
    },
    {
      "cell_type": "code",
      "metadata": {
        "colab": {
          "base_uri": "https://localhost:8080/"
        },
        "id": "HmqmihxGukXI",
        "outputId": "ec21966c-a234-4122-c19e-16c5470dc099"
      },
      "source": [
        "print(history.history.keys())"
      ],
      "execution_count": 12,
      "outputs": [
        {
          "output_type": "stream",
          "text": [
            "dict_keys(['loss', 'mse', 'mae', 'val_loss', 'val_mse', 'val_mae'])\n"
          ],
          "name": "stdout"
        }
      ]
    },
    {
      "cell_type": "code",
      "metadata": {
        "colab": {
          "base_uri": "https://localhost:8080/",
          "height": 295
        },
        "id": "Qb58J6B3ukXK",
        "outputId": "c9abc210-3348-4a7d-8fcc-93b01dd1d9b3"
      },
      "source": [
        "plt.plot(history.history['loss'])\n",
        "plt.plot(history.history['val_loss'])\n",
        "plt.title('model loss')\n",
        "plt.ylabel('loss')\n",
        "plt.xlabel('epoch')\n",
        "plt.legend(['train', 'validation'], loc='upper left')\n",
        "plt.show()"
      ],
      "execution_count": 13,
      "outputs": [
        {
          "output_type": "display_data",
          "data": {
            "image/png": "[encoded data removed]",
            "text/plain": [
              "<Figure size 432x288 with 1 Axes>"
            ]
          },
          "metadata": {
            "tags": [],
            "needs_background": "light"
          }
        }
      ]
    },
    {
      "cell_type": "code",
      "metadata": {
        "colab": {
          "base_uri": "https://localhost:8080/",
          "height": 295
        },
        "id": "9yJ1JVs7ukXL",
        "outputId": "ea82d5d4-0160-4b50-d9eb-2c0e635ee5c3"
      },
      "source": [
        "plt.plot(history.history['mae'])\n",
        "plt.plot(history.history['val_mae'])\n",
        "plt.title('model loss')\n",
        "plt.ylabel('loss')\n",
        "plt.xlabel('epoch')\n",
        "plt.legend(['train', 'validation'], loc='upper left')\n",
        "plt.show()"
      ],
      "execution_count": 14,
      "outputs": [
        {
          "output_type": "display_data",
          "data": {
            "image/png": "[encoded data removed]",
            "text/plain": [
              "<Figure size 432x288 with 1 Axes>"
            ]
          },
          "metadata": {
            "tags": [],
            "needs_background": "light"
          }
        }
      ]
    },
    {
      "cell_type": "code",
      "metadata": {
        "id": "TwDE2kwgukXM"
      },
      "source": [
        "y_pred = model.predict(X_test)"
      ],
      "execution_count": 15,
      "outputs": []
    },
    {
      "cell_type": "code",
      "metadata": {
        "colab": {
          "base_uri": "https://localhost:8080/"
        },
        "id": "_5F3w3SUukXN",
        "outputId": "9f06f93c-bb2d-40ce-c010-f4818da4e4dc"
      },
      "source": [
        "y_test"
      ],
      "execution_count": 16,
      "outputs": [
        {
          "output_type": "execute_result",
          "data": {
            "text/plain": [
              "173    23.6\n",
              "274    32.4\n",
              "491    13.6\n",
              "72     22.8\n",
              "452    16.1\n",
              "       ... \n",
              "110    21.7\n",
              "321    23.1\n",
              "265    22.8\n",
              "29     21.0\n",
              "262    48.8\n",
              "Name: MEDV, Length: 167, dtype: float64"
            ]
          },
          "metadata": {
            "tags": []
          },
          "execution_count": 16
        }
      ]
    },
    {
      "cell_type": "code",
      "metadata": {
        "colab": {
          "base_uri": "https://localhost:8080/"
        },
        "id": "7vOpOn8uukXN",
        "outputId": "1897fe54-4940-4dff-bf20-f19f23508fbd"
      },
      "source": [
        "from sklearn.metrics import mean_absolute_error\n",
        "mean_absolute_error(y_test, y_pred)"
      ],
      "execution_count": 17,
      "outputs": [
        {
          "output_type": "execute_result",
          "data": {
            "text/plain": [
              "3.344114395529924"
            ]
          },
          "metadata": {
            "tags": []
          },
          "execution_count": 17
        }
      ]
    },
    {
      "cell_type": "code",
      "metadata": {
        "colab": {
          "base_uri": "https://localhost:8080/"
        },
        "id": "bV2G-v5SukXO",
        "outputId": "3d03351e-f420-4f2f-d76f-e317f98953aa"
      },
      "source": [
        "from sklearn.metrics import mean_squared_error\n",
        "\n",
        "mean_squared_error(y_test, y_pred)"
      ],
      "execution_count": 18,
      "outputs": [
        {
          "output_type": "execute_result",
          "data": {
            "text/plain": [
              "24.562008068395738"
            ]
          },
          "metadata": {
            "tags": []
          },
          "execution_count": 18
        }
      ]
    },
    {
      "cell_type": "code",
      "metadata": {
        "colab": {
          "base_uri": "https://localhost:8080/"
        },
        "id": "TDim5QSDukXP",
        "outputId": "ed8b2a54-d8e4-48fe-ae52-f982e2b85693"
      },
      "source": [
        "from math import sqrt\n",
        "\n",
        "mse = mean_squared_error(y_test, y_pred)\n",
        "# taking root of mean squared error\n",
        "sqrt(mse)"
      ],
      "execution_count": 19,
      "outputs": [
        {
          "output_type": "execute_result",
          "data": {
            "text/plain": [
              "4.956007270817481"
            ]
          },
          "metadata": {
            "tags": []
          },
          "execution_count": 19
        }
      ]
    },
    {
      "cell_type": "code",
      "metadata": {
        "id": "PZJc4hPDukXZ"
      },
      "source": [
        ""
      ],
      "execution_count": null,
      "outputs": []
    }
  ]
}