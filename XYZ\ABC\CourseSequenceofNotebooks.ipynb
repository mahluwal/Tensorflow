{
  "nbformat": 4,
  "nbformat_minor": 0,
  "metadata": {
    "colab": {
      "name": "CourseSequenceofNotebooks.ipynb",
      "provenance": [],
      "collapsed_sections": [],
      "authorship_tag": "ABX9TyP3JQ8iVaVL+m/B8Y12zIWx",
      "include_colab_link": true
    },
    "kernelspec": {
      "name": "python3",
      "display_name": "Python 3"
    }
  },
  "cells": [
    {
      "cell_type": "markdown",
      "metadata": {
        "id": "view-in-github",
        "colab_type": "text"
      },
      "source": [
        "<a href=\"https://colab.research.google.com/github/mahluwal/Tensorflow/blob/master/XYZ%5CABC%5CCourseSequenceofNotebooks.ipynb\" target=\"_parent\"><img src=\"https://colab.research.google.com/assets/colab-badge.svg\" alt=\"Open In Colab\"/></a>"
      ]
    },
    {
      "cell_type": "code",
      "metadata": {
        "id": "4KrvTL86xw1T",
        "colab_type": "code",
        "colab": {}
      },
      "source": [
        ""
      ],
      "execution_count": null,
      "outputs": []
    },
    {
      "cell_type": "markdown",
      "metadata": {
        "id": "PgqrEvfHxxoL",
        "colab_type": "text"
      },
      "source": [
        "Sequence of Notebooks in course\n",
        "TensorFlow 2.0 Complete Course - Python Neural Networks for Beginners Tutorial\n",
        "https://www.youtube.com/watch?v=tPYj3fFJGjk&t=26s\n",
        "\n",
        "TensorFlow-Introduction.ipynb\n",
        "\n",
        "Core Learning Algorithms.ipynb\n",
        "\n",
        "Neural Networks.ipynb\n",
        "\n",
        "Computer Vision.ipynb\n",
        "\n",
        "Natural Language Processing with RNNs.ipynb\n",
        "\n",
        "Reinforcement Learning.ipynb\n",
        "\n",
        "\n",
        "\n"
      ]
    }
  ]
}