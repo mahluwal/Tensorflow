{
  "nbformat": 4,
  "nbformat_minor": 0,
  "metadata": {
    "kernelspec": {
      "display_name": "Python 3",
      "language": "python",
      "name": "python3"
    },
    "language_info": {
      "codemirror_mode": {
        "name": "ipython",
        "version": 3
      },
      "file_extension": ".py",
      "mimetype": "text/x-python",
      "name": "python",
      "nbconvert_exporter": "python",
      "pygments_lexer": "ipython3",
      "version": "3.6.8"
    },
    "colab": {
      "name": "multiple-linear-regression.ipynb",
      "provenance": [],
      "collapsed_sections": [],
      "include_colab_link": true
    }
  },
  "cells": [
    {
      "cell_type": "markdown",
      "metadata": {
        "id": "view-in-github",
        "colab_type": "text"
      },
      "source": [
        "<a href=\"https://colab.research.google.com/github/mahluwal/Tensorflow/blob/master/multiple_linear_regression.ipynb\" target=\"_parent\"><img src=\"https://colab.research.google.com/assets/colab-badge.svg\" alt=\"Open In Colab\"/></a>"
      ]
    },
    {
      "cell_type": "markdown",
      "metadata": {
        "_cell_guid": "b1076dfc-b9ad-4769-8c92-a6c4dae69d19",
        "_uuid": "8f2839f25d086af736a60e9eeb907d3b93b6e0e5",
        "id": "RXNb6QGc-9Iy"
      },
      "source": [
        "**About this Notebook**\n",
        "\n",
        "In this notebook, we learn how to use scikit-learn to implement Multiple linear regression. We download a dataset that is related to fuel consumption and Carbon dioxide emission of cars. Then, we split our data into training and test sets, create a model using training set, Evaluate your model using test set, and finally use model to predict unknown value"
      ]
    },
    {
      "cell_type": "markdown",
      "metadata": {
        "_cell_guid": "79c7e3d0-c299-4dcb-8224-4455121ee9b0",
        "_uuid": "d629ff2d2480ee46fbb7e2d37f6b5fab8052498a",
        "collapsed": true,
        "id": "uf6v8SiD-9I1"
      },
      "source": [
        "**Importing packages**"
      ]
    },
    {
      "cell_type": "code",
      "metadata": {
        "_uuid": "6415bf18c6101a1895439df073ca312882b239e3",
        "id": "l7IpgniR-9I3"
      },
      "source": [
        "import matplotlib.pyplot as plt\n",
        "import pandas as pd\n",
        "import numpy as np\n",
        "%matplotlib inline"
      ],
      "execution_count": 1,
      "outputs": []
    },
    {
      "cell_type": "markdown",
      "metadata": {
        "_uuid": "b0931ac2a1dc25cb9642fd4862551a506f30cff0",
        "id": "en_H0kR_-9I5"
      },
      "source": [
        "**Understanding the Data**\n",
        "\n",
        "We have downloaded a fuel consumption dataset, FuelConsumption.csv, which contains model-specific fuel consumption ratings and estimated carbon dioxide emissions for new light-duty vehicles for retail sale in Canada. \n",
        "\n",
        "**MODELYEAR** e.g. 2014\n",
        "\n",
        "**MAKE** e.g. Acura\n",
        "\n",
        "**MODEL** e.g. ILX\n",
        "\n",
        "**VEHICLE CLASS** e.g. SUV\n",
        "\n",
        "**ENGINE SIZE** e.g. 4.7\n",
        "\n",
        "**CYLINDERS** e.g 6\n",
        "\n",
        "**TRANSMISSION** e.g. A6\n",
        "\n",
        "**FUELTYPE** e.g. z\n",
        "\n",
        "**FUEL CONSUMPTION in CITY(L/100 km)** e.g. 9.9\n",
        "\n",
        "**FUEL CONSUMPTION in HWY (L/100 km)** e.g. 8.9\n",
        "\n",
        "**FUEL CONSUMPTION COMB (L/100 km)** e.g. 9.2\n",
        "\n",
        "**CO2 EMISSIONS (g/km)** e.g. 182 --> low --> 0"
      ]
    },
    {
      "cell_type": "markdown",
      "metadata": {
        "_uuid": "889f953a2e7cfdb5253eef6b9adc7ba7c2ead300",
        "id": "6Wrs7jOX-9I6"
      },
      "source": [
        "**Reading the Data**"
      ]
    },
    {
      "cell_type": "code",
      "metadata": {
        "_uuid": "68142b008847084a779702f7b8b77366e1ceb48f",
        "colab": {
          "base_uri": "https://localhost:8080/",
          "height": 328
        },
        "id": "haeIKb8c-9I8",
        "outputId": "1153f9b2-8570-4b15-df0d-fd11f944b070"
      },
      "source": [
        "df = pd.read_csv(\"https://raw.githubusercontent.com/mahluwal/Data1/main/Fuel%20Consumption.csv\",  encoding='cp1252')\n",
        "df.head()"
      ],
      "execution_count": 3,
      "outputs": [
        {
          "output_type": "execute_result",
          "data": {
            "text/html": [
              "<div>\n",
              "<style scoped>\n",
              "    .dataframe tbody tr th:only-of-type {\n",
              "        vertical-align: middle;\n",
              "    }\n",
              "\n",
              "    .dataframe tbody tr th {\n",
              "        vertical-align: top;\n",
              "    }\n",
              "\n",
              "    .dataframe thead th {\n",
              "        text-align: right;\n",
              "    }\n",
              "</style>\n",
              "<table border=\"1\" class=\"dataframe\">\n",
              "  <thead>\n",
              "    <tr style=\"text-align: right;\">\n",
              "      <th></th>\n",
              "      <th>MODELYEAR</th>\n",
              "      <th>MAKE</th>\n",
              "      <th>MODEL</th>\n",
              "      <th>VEHICLE CLASS</th>\n",
              "      <th>ENGINESIZE</th>\n",
              "      <th>CYLINDERS</th>\n",
              "      <th>TRANSMISSION</th>\n",
              "      <th>FUEL</th>\n",
              "      <th>FUEL CONSUMPTION in CITY (L/100 km)</th>\n",
              "      <th>FUEL CONSUMPTION in HWY (L/100 km)</th>\n",
              "      <th>FUEL CONSUMPTION COMB (L/100 km)</th>\n",
              "      <th>FUELCONSUMPTION_COMB</th>\n",
              "      <th>CO2EMISSIONS</th>\n",
              "    </tr>\n",
              "  </thead>\n",
              "  <tbody>\n",
              "    <tr>\n",
              "      <th>0</th>\n",
              "      <td>NaN</td>\n",
              "      <td>NaN</td>\n",
              "      <td># = high output engine</td>\n",
              "      <td>NaN</td>\n",
              "      <td>(L)</td>\n",
              "      <td>NaN</td>\n",
              "      <td>NaN</td>\n",
              "      <td>TYPE</td>\n",
              "      <td>NaN</td>\n",
              "      <td>HWY (L/100 km)</td>\n",
              "      <td>COMB (L/100 km)</td>\n",
              "      <td>COMB (mpg)</td>\n",
              "      <td>(g/km)</td>\n",
              "    </tr>\n",
              "    <tr>\n",
              "      <th>1</th>\n",
              "      <td>2014</td>\n",
              "      <td>ACURA</td>\n",
              "      <td>ILX</td>\n",
              "      <td>COMPACT</td>\n",
              "      <td>2</td>\n",
              "      <td>4.0</td>\n",
              "      <td>AS5</td>\n",
              "      <td>Z</td>\n",
              "      <td>9.9</td>\n",
              "      <td>6.7</td>\n",
              "      <td>8.5</td>\n",
              "      <td>33</td>\n",
              "      <td>196</td>\n",
              "    </tr>\n",
              "    <tr>\n",
              "      <th>2</th>\n",
              "      <td>2014</td>\n",
              "      <td>ACURA</td>\n",
              "      <td>ILX</td>\n",
              "      <td>COMPACT</td>\n",
              "      <td>2.4</td>\n",
              "      <td>4.0</td>\n",
              "      <td>M6</td>\n",
              "      <td>Z</td>\n",
              "      <td>11.2</td>\n",
              "      <td>7.7</td>\n",
              "      <td>9.6</td>\n",
              "      <td>29</td>\n",
              "      <td>221</td>\n",
              "    </tr>\n",
              "    <tr>\n",
              "      <th>3</th>\n",
              "      <td>2014</td>\n",
              "      <td>ACURA</td>\n",
              "      <td>ILX HYBRID</td>\n",
              "      <td>COMPACT</td>\n",
              "      <td>1.5</td>\n",
              "      <td>4.0</td>\n",
              "      <td>AV7</td>\n",
              "      <td>Z</td>\n",
              "      <td>6.0</td>\n",
              "      <td>5.8</td>\n",
              "      <td>5.9</td>\n",
              "      <td>48</td>\n",
              "      <td>136</td>\n",
              "    </tr>\n",
              "    <tr>\n",
              "      <th>4</th>\n",
              "      <td>2014</td>\n",
              "      <td>ACURA</td>\n",
              "      <td>MDX 4WD</td>\n",
              "      <td>SUV - SMALL</td>\n",
              "      <td>3.5</td>\n",
              "      <td>6.0</td>\n",
              "      <td>AS6</td>\n",
              "      <td>Z</td>\n",
              "      <td>12.7</td>\n",
              "      <td>9.1</td>\n",
              "      <td>11.1</td>\n",
              "      <td>25</td>\n",
              "      <td>255</td>\n",
              "    </tr>\n",
              "  </tbody>\n",
              "</table>\n",
              "</div>"
            ],
            "text/plain": [
              "  MODELYEAR   MAKE  ... FUELCONSUMPTION_COMB CO2EMISSIONS\n",
              "0       NaN    NaN  ...           COMB (mpg)       (g/km)\n",
              "1      2014  ACURA  ...                   33          196\n",
              "2      2014  ACURA  ...                   29          221\n",
              "3      2014  ACURA  ...                   48          136\n",
              "4      2014  ACURA  ...                   25          255\n",
              "\n",
              "[5 rows x 13 columns]"
            ]
          },
          "metadata": {
            "tags": []
          },
          "execution_count": 3
        }
      ]
    },
    {
      "cell_type": "code",
      "metadata": {
        "id": "pLZCmTVE-9I-"
      },
      "source": [
        "df.dropna(axis = 0, inplace = True)\n"
      ],
      "execution_count": 4,
      "outputs": []
    },
    {
      "cell_type": "code",
      "metadata": {
        "id": "vCcSghlh-9I-"
      },
      "source": [
        "df.reset_index(drop = True, inplace = True)"
      ],
      "execution_count": 5,
      "outputs": []
    },
    {
      "cell_type": "code",
      "metadata": {
        "colab": {
          "base_uri": "https://localhost:8080/"
        },
        "id": "MDvx1xwo-9I_",
        "outputId": "2305f259-06e3-4a70-e2e9-be330e1cd3b6"
      },
      "source": [
        "df.info()"
      ],
      "execution_count": 6,
      "outputs": [
        {
          "output_type": "stream",
          "text": [
            "<class 'pandas.core.frame.DataFrame'>\n",
            "RangeIndex: 1071 entries, 0 to 1070\n",
            "Data columns (total 13 columns):\n",
            " #   Column                               Non-Null Count  Dtype  \n",
            "---  ------                               --------------  -----  \n",
            " 0   MODELYEAR                            1071 non-null   object \n",
            " 1   MAKE                                 1071 non-null   object \n",
            " 2   MODEL                                1071 non-null   object \n",
            " 3   VEHICLE CLASS                        1071 non-null   object \n",
            " 4   ENGINESIZE                           1071 non-null   object \n",
            " 5   CYLINDERS                            1071 non-null   float64\n",
            " 6   TRANSMISSION                         1071 non-null   object \n",
            " 7   FUEL                                 1071 non-null   object \n",
            " 8   FUEL CONSUMPTION in CITY (L/100 km)  1071 non-null   float64\n",
            " 9   FUEL CONSUMPTION in HWY (L/100 km)   1071 non-null   object \n",
            " 10  FUEL CONSUMPTION COMB (L/100 km)     1071 non-null   object \n",
            " 11  FUELCONSUMPTION_COMB                 1071 non-null   object \n",
            " 12  CO2EMISSIONS                         1071 non-null   object \n",
            "dtypes: float64(2), object(11)\n",
            "memory usage: 108.9+ KB\n"
          ],
          "name": "stdout"
        }
      ]
    },
    {
      "cell_type": "code",
      "metadata": {
        "id": "y-YZ8RlJ-9JC"
      },
      "source": [
        "df[['ENGINESIZE','CYLINDERS','FUEL CONSUMPTION in CITY (L/100 km)','FUEL CONSUMPTION in HWY (L/100 km)','FUELCONSUMPTION_COMB','CO2EMISSIONS']] = df[['ENGINESIZE','CYLINDERS','FUEL CONSUMPTION in CITY (L/100 km)','FUEL CONSUMPTION in HWY (L/100 km)','FUELCONSUMPTION_COMB','CO2EMISSIONS']].apply(pd.to_numeric)"
      ],
      "execution_count": 7,
      "outputs": []
    },
    {
      "cell_type": "markdown",
      "metadata": {
        "_uuid": "cefeb750ede0f13a978640902e87c039bdc17fbf",
        "id": "uIw0cYhF-9JD"
      },
      "source": [
        "Lets selecet features that we want to use for regression."
      ]
    },
    {
      "cell_type": "code",
      "metadata": {
        "_uuid": "e5ddcd822cf355c22f00dfa5c9f8a84e560462b8",
        "colab": {
          "base_uri": "https://localhost:8080/",
          "height": 206
        },
        "id": "y4xQtc0Y-9JE",
        "outputId": "f1e92854-b85f-47c9-d62f-db50e8ba6428"
      },
      "source": [
        "cdf = df[['ENGINESIZE','CYLINDERS','FUEL CONSUMPTION in CITY (L/100 km)','FUEL CONSUMPTION in HWY (L/100 km)','FUELCONSUMPTION_COMB','CO2EMISSIONS']]\n",
        "cdf.head()"
      ],
      "execution_count": 8,
      "outputs": [
        {
          "output_type": "execute_result",
          "data": {
            "text/html": [
              "<div>\n",
              "<style scoped>\n",
              "    .dataframe tbody tr th:only-of-type {\n",
              "        vertical-align: middle;\n",
              "    }\n",
              "\n",
              "    .dataframe tbody tr th {\n",
              "        vertical-align: top;\n",
              "    }\n",
              "\n",
              "    .dataframe thead th {\n",
              "        text-align: right;\n",
              "    }\n",
              "</style>\n",
              "<table border=\"1\" class=\"dataframe\">\n",
              "  <thead>\n",
              "    <tr style=\"text-align: right;\">\n",
              "      <th></th>\n",
              "      <th>ENGINESIZE</th>\n",
              "      <th>CYLINDERS</th>\n",
              "      <th>FUEL CONSUMPTION in CITY (L/100 km)</th>\n",
              "      <th>FUEL CONSUMPTION in HWY (L/100 km)</th>\n",
              "      <th>FUELCONSUMPTION_COMB</th>\n",
              "      <th>CO2EMISSIONS</th>\n",
              "    </tr>\n",
              "  </thead>\n",
              "  <tbody>\n",
              "    <tr>\n",
              "      <th>0</th>\n",
              "      <td>2.0</td>\n",
              "      <td>4.0</td>\n",
              "      <td>9.9</td>\n",
              "      <td>6.7</td>\n",
              "      <td>33</td>\n",
              "      <td>196</td>\n",
              "    </tr>\n",
              "    <tr>\n",
              "      <th>1</th>\n",
              "      <td>2.4</td>\n",
              "      <td>4.0</td>\n",
              "      <td>11.2</td>\n",
              "      <td>7.7</td>\n",
              "      <td>29</td>\n",
              "      <td>221</td>\n",
              "    </tr>\n",
              "    <tr>\n",
              "      <th>2</th>\n",
              "      <td>1.5</td>\n",
              "      <td>4.0</td>\n",
              "      <td>6.0</td>\n",
              "      <td>5.8</td>\n",
              "      <td>48</td>\n",
              "      <td>136</td>\n",
              "    </tr>\n",
              "    <tr>\n",
              "      <th>3</th>\n",
              "      <td>3.5</td>\n",
              "      <td>6.0</td>\n",
              "      <td>12.7</td>\n",
              "      <td>9.1</td>\n",
              "      <td>25</td>\n",
              "      <td>255</td>\n",
              "    </tr>\n",
              "    <tr>\n",
              "      <th>4</th>\n",
              "      <td>3.5</td>\n",
              "      <td>6.0</td>\n",
              "      <td>12.1</td>\n",
              "      <td>8.7</td>\n",
              "      <td>27</td>\n",
              "      <td>244</td>\n",
              "    </tr>\n",
              "  </tbody>\n",
              "</table>\n",
              "</div>"
            ],
            "text/plain": [
              "   ENGINESIZE  CYLINDERS  ...  FUELCONSUMPTION_COMB  CO2EMISSIONS\n",
              "0         2.0        4.0  ...                    33           196\n",
              "1         2.4        4.0  ...                    29           221\n",
              "2         1.5        4.0  ...                    48           136\n",
              "3         3.5        6.0  ...                    25           255\n",
              "4         3.5        6.0  ...                    27           244\n",
              "\n",
              "[5 rows x 6 columns]"
            ]
          },
          "metadata": {
            "tags": []
          },
          "execution_count": 8
        }
      ]
    },
    {
      "cell_type": "code",
      "metadata": {
        "id": "Rmnv4fhX-9JF"
      },
      "source": [
        ""
      ],
      "execution_count": 8,
      "outputs": []
    },
    {
      "cell_type": "markdown",
      "metadata": {
        "_uuid": "2d3f4fed97381f24dbca0d0f2190085d04b62e46",
        "id": "CITHs42P-9JG"
      },
      "source": [
        "Lets plot Emision values with respect to Engine size:"
      ]
    },
    {
      "cell_type": "code",
      "metadata": {
        "_uuid": "689cd9f4f8e2db214ca3142fa824a1c899d70103",
        "colab": {
          "base_uri": "https://localhost:8080/",
          "height": 280
        },
        "id": "vq_O38Wq-9JG",
        "outputId": "59b0d97c-a12d-492d-95bc-3c24e0b30a4b"
      },
      "source": [
        "plt.scatter(cdf.ENGINESIZE, cdf.CO2EMISSIONS, color='blue')\n",
        "plt.xlabel('Engine Size')\n",
        "plt.ylabel('Emissions')\n",
        "plt.show()"
      ],
      "execution_count": 9,
      "outputs": [
        {
          "output_type": "display_data",
          "data": {
            "image/png": "[encoded data removed]",
            "text/plain": [
              "<Figure size 432x288 with 1 Axes>"
            ]
          },
          "metadata": {
            "tags": [],
            "needs_background": "light"
          }
        }
      ]
    },
    {
      "cell_type": "markdown",
      "metadata": {
        "_uuid": "ddcee99418596967103c81cee5e49cb79fafc2ba",
        "id": "HkOW9A0u-9JH"
      },
      "source": [
        "**Creating train and test dataset**\n",
        "\n",
        "Train/Test Split involves splitting the dataset into training and testing sets respectively, which are mutually exclusive. After which, you train with the training set and test with the testing set. This will provide a more accurate evaluation on out-of-sample accuracy because the testing dataset is not part of the dataset that have been used to train the data. It is more realistic for real world problems.\n",
        "\n",
        "This means that we know the outcome of each data point in this dataset, making it great to test with! And since this data has not been used to train the model, the model has no knowledge of the outcome of these data points. So, in essence, it’s truly an out-of-sample testing."
      ]
    },
    {
      "cell_type": "code",
      "metadata": {
        "colab": {
          "base_uri": "https://localhost:8080/"
        },
        "id": "yX3PTifi-9JI",
        "outputId": "81587978-81d2-4ef7-d14d-85d5bc957dec"
      },
      "source": [
        "msk = np.random.rand(len(df)) < 0.8\n",
        "msk"
      ],
      "execution_count": 10,
      "outputs": [
        {
          "output_type": "execute_result",
          "data": {
            "text/plain": [
              "array([ True,  True,  True, ..., False,  True,  True])"
            ]
          },
          "metadata": {
            "tags": []
          },
          "execution_count": 10
        }
      ]
    },
    {
      "cell_type": "code",
      "metadata": {
        "_uuid": "55a582aa347b380641690486b1721558d99f6547",
        "id": "47yD0sGz-9JI"
      },
      "source": [
        "\n",
        "train = cdf[msk]\n",
        "test = cdf[~msk]"
      ],
      "execution_count": 11,
      "outputs": []
    },
    {
      "cell_type": "markdown",
      "metadata": {
        "_uuid": "146050269e39851ecf91d2188783f51c657e74fd",
        "id": "BhGsxKqJ-9JJ"
      },
      "source": [
        "**Train Data distribution**"
      ]
    },
    {
      "cell_type": "code",
      "metadata": {
        "_uuid": "174b35168196468ea87280e2222bee023ad6a427",
        "colab": {
          "base_uri": "https://localhost:8080/",
          "height": 281
        },
        "id": "itxoadyf-9JJ",
        "outputId": "7b77bcd6-c398-4e02-90d7-1e69063d4a49"
      },
      "source": [
        "plt.scatter(train.ENGINESIZE, train.CO2EMISSIONS, color = 'blue')\n",
        "plt.xlabel('Engine Size')\n",
        "plt.ylabel('CO2 Emission')\n",
        "plt.show()"
      ],
      "execution_count": 12,
      "outputs": [
        {
          "output_type": "display_data",
          "data": {
            "image/png": "[encoded data removed]",
            "text/plain": [
              "<Figure size 432x288 with 1 Axes>"
            ]
          },
          "metadata": {
            "tags": [],
            "needs_background": "light"
          }
        }
      ]
    },
    {
      "cell_type": "markdown",
      "metadata": {
        "_uuid": "afad5870caf158cbbf4c42423b26cd01aeb80fdd",
        "id": "r3oYowmb-9JK"
      },
      "source": [
        "**Multiple Regression Model**\n",
        "\n",
        "In reality, there are multiple variables that predict the Co2emission. When more than one independent variable is present, the process is called multiple linear regression. For example, predicting co2emission using FUELCONSUMPTION_COMB, EngineSize and Cylinders of cars. The good thing here is that Multiple linear regression is the extension of simple linear regression model."
      ]
    },
    {
      "cell_type": "code",
      "metadata": {
        "_uuid": "7e7a529df0fef7c6de63ffca1cbfefdc3ea921c9",
        "colab": {
          "base_uri": "https://localhost:8080/"
        },
        "id": "olcX78my-9JK",
        "outputId": "b9f62bdb-710f-4bec-ba17-6a37215955d1"
      },
      "source": [
        "from sklearn import linear_model\n",
        "regr = linear_model.LinearRegression()\n",
        "x = np.asanyarray(train[['ENGINESIZE','CYLINDERS','FUELCONSUMPTION_COMB']])\n",
        "y = np.asanyarray(train[['CO2EMISSIONS']])\n",
        "regr.fit(x,y)\n",
        "\n",
        "print('Coefficients: ', regr.coef_)\n",
        "print(\"intercept: \", regr.intercept_)"
      ],
      "execution_count": 13,
      "outputs": [
        {
          "output_type": "stream",
          "text": [
            "Coefficients:  [[10.64692977  6.61375275 -4.9090285 ]]\n",
            "intercept:  [312.54010488]\n"
          ],
          "name": "stdout"
        }
      ]
    },
    {
      "cell_type": "markdown",
      "metadata": {
        "_uuid": "8bb54f34deaf3fa88a7c663be099e34659da56da",
        "id": "wT4xqpBL-9JL"
      },
      "source": [
        "As mentioned before, Coefficient and Intercept , are the parameters of the fit line. Given that it is a multiple linear regression, with 3 parameters, and knowing that the parameters are the intercept and coefficients of hyperplane, sklearn can estimate them from our data. Scikit-learn uses plain Ordinary Least Squares method to solve this problem.\n",
        "\n",
        "**Ordinary Least Squares (OLS)**\n",
        "\n",
        "OLS is a method for estimating the unknown parameters in a linear regression model. OLS chooses the parameters of a linear function of a set of explanatory variables by minimizing the sum of the squares of the differences between the target dependent variable and those predicted by the linear function. In other words, it tries to minimizes the sum of squared errors (SSE) or mean squared error (MSE) between the target variable (y) and our predicted output (y-hat) over all samples in the dataset.\n",
        "\n",
        "OLS can find the best parameters using of these features:\n",
        "\n",
        "- Solving the model parameters analytically using closed-form equations\n",
        "- Using an optimization algorithm (Gradient Descent, Stochastic Gradient Descent, Newton’s Method, etc.)"
      ]
    },
    {
      "cell_type": "markdown",
      "metadata": {
        "_uuid": "fb41fe68a4f003cb4e66ae41bbdefa491119d377",
        "id": "b2EP-mVb-9JM"
      },
      "source": [
        "**Prediction**"
      ]
    },
    {
      "cell_type": "code",
      "metadata": {
        "_uuid": "6ba7a7ad918245ff25490008c9d3d68c629c4b90",
        "colab": {
          "base_uri": "https://localhost:8080/"
        },
        "id": "he8PvWsF-9JM",
        "outputId": "af1a2b07-ddb5-4e73-e076-b872e212097f"
      },
      "source": [
        "y_= regr.predict(test[['ENGINESIZE','CYLINDERS','FUELCONSUMPTION_COMB']])\n",
        "x = np.asanyarray(test[['ENGINESIZE','CYLINDERS','FUELCONSUMPTION_COMB']])\n",
        "y = np.asanyarray(test[['CO2EMISSIONS']])\n",
        "print('Residual sum squares: %.2f' % np.mean((y_ - y) **2 ))\n",
        "print('Variance score: %.2f' % regr.score(x,y)) # Explained variance score: 1 is perfect prediction"
      ],
      "execution_count": 14,
      "outputs": [
        {
          "output_type": "stream",
          "text": [
            "Residual sum squares: 452.80\n",
            "Variance score: 0.87\n"
          ],
          "name": "stdout"
        }
      ]
    },
    {
      "cell_type": "code",
      "metadata": {
        "id": "we9zkJYT-9JN"
      },
      "source": [
        "from sklearn.metrics import mean_squared_error\n",
        "\n",
        "rms = np.sqrt(mean_squared_error(y, y_))"
      ],
      "execution_count": 15,
      "outputs": []
    },
    {
      "cell_type": "code",
      "metadata": {
        "colab": {
          "base_uri": "https://localhost:8080/"
        },
        "id": "JrQxQZvu-9JO",
        "outputId": "c4214276-77d0-4879-e3ae-fe4dddd481b0"
      },
      "source": [
        "rms"
      ],
      "execution_count": 16,
      "outputs": [
        {
          "output_type": "execute_result",
          "data": {
            "text/plain": [
              "21.27910888939123"
            ]
          },
          "metadata": {
            "tags": []
          },
          "execution_count": 16
        }
      ]
    },
    {
      "cell_type": "code",
      "metadata": {
        "colab": {
          "base_uri": "https://localhost:8080/"
        },
        "id": "Pt6dxIC4-9JP",
        "outputId": "fd96394f-9995-4ab1-d2c1-e14ebce0d149"
      },
      "source": [
        "21**2"
      ],
      "execution_count": 17,
      "outputs": [
        {
          "output_type": "execute_result",
          "data": {
            "text/plain": [
              "441"
            ]
          },
          "metadata": {
            "tags": []
          },
          "execution_count": 17
        }
      ]
    },
    {
      "cell_type": "markdown",
      "metadata": {
        "_uuid": "e78cff158dc00900b2661fea854c2e43b9742713",
        "id": "RcmoJdSs-9JP"
      },
      "source": [
        "**explained variance regression score:**\n",
        "\n",
        "If $\\hat{y}$ is the estimated target output, y the corresponding (correct) target output, and Var is Variance, the square of the standard deviation, then the explained variance is estimated as follow:\n",
        "\n",
        "$\\texttt{explainedVariance}(y, \\hat{y}) = 1 - \\frac{Var\\{ y - \\hat{y}\\}}{Var\\{y\\}}$  \n",
        "\n",
        "The best possible score is 1.0, lower values are worse."
      ]
    },
    {
      "cell_type": "markdown",
      "metadata": {
        "_uuid": "d46da8e162ff89484de8658d6dd4fbbcd0851971",
        "id": "nQDh7ddM-9JQ"
      },
      "source": [
        "**Practice**\n",
        "\n",
        "Try to use a multiple linear regression with the same dataset but this time use FUEL CONSUMPTION in CITY and FUEL CONSUMPTION in HWY instead of FUELCONSUMPTION_COMB. Does it result in better accuracy?"
      ]
    },
    {
      "cell_type": "code",
      "metadata": {
        "_uuid": "39ba6bc9270887ac103c3d457aea127cffa2dd86",
        "colab": {
          "base_uri": "https://localhost:8080/"
        },
        "id": "TkIE1W9--9JQ",
        "outputId": "1938afcd-1534-45b2-89d3-66e41e0c7a43"
      },
      "source": [
        "regr = linear_model.LinearRegression()\n",
        "x = np.asanyarray(train[['ENGINESIZE','CYLINDERS','FUEL CONSUMPTION in CITY (L/100 km)','FUEL CONSUMPTION in HWY (L/100 km)']])\n",
        "y = np.asanyarray(train[['CO2EMISSIONS']])\n",
        "regr.fit (x, y)\n",
        "print ('Coefficients: ', regr.coef_)\n",
        "\n",
        "y_= regr.predict(test[['ENGINESIZE','CYLINDERS','FUEL CONSUMPTION in CITY (L/100 km)','FUEL CONSUMPTION in HWY (L/100 km)']])\n",
        "x = np.asanyarray(test[['ENGINESIZE','CYLINDERS','FUEL CONSUMPTION in CITY (L/100 km)','FUEL CONSUMPTION in HWY (L/100 km)']])\n",
        "y = np.asanyarray(test[['CO2EMISSIONS']])\n",
        "\n",
        "print(\"Residual sum of squares: %.2f\"% np.mean((y_ - y) ** 2))\n",
        "print('Variance score: %.2f' % regr.score(x, y))"
      ],
      "execution_count": 18,
      "outputs": [
        {
          "output_type": "stream",
          "text": [
            "Coefficients:  [[11.10423069  7.47221447  5.84864607  3.38995867]]\n",
            "Residual sum of squares: 537.38\n",
            "Variance score: 0.85\n"
          ],
          "name": "stdout"
        }
      ]
    },
    {
      "cell_type": "code",
      "metadata": {
        "id": "rqRWUGDT-9JQ"
      },
      "source": [
        ""
      ],
      "execution_count": null,
      "outputs": []
    }
  ]
}