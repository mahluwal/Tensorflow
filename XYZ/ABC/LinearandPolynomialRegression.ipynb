{
  "nbformat": 4,
  "nbformat_minor": 0,
  "metadata": {
    "colab": {
      "name": "LinearandPolynomialRegression.ipynb",
      "provenance": [],
      "collapsed_sections": [],
      "authorship_tag": "ABX9TyOrIkXH4PiTpu0rnfK3Ytnk",
      "include_colab_link": true
    },
    "kernelspec": {
      "name": "python3",
      "display_name": "Python 3"
    }
  },
  "cells": [
    {
      "cell_type": "markdown",
      "metadata": {
        "id": "view-in-github",
        "colab_type": "text"
      },
      "source": [
        "<a href=\"https://colab.research.google.com/github/mahluwal/Tensorflow/blob/master/XYZ/ABC/LinearandPolynomialRegression.ipynb\" target=\"_parent\"><img src=\"https://colab.research.google.com/assets/colab-badge.svg\" alt=\"Open In Colab\"/></a>"
      ]
    },
    {
      "cell_type": "markdown",
      "metadata": {
        "id": "ZEvw8CAoCKgD",
        "colab_type": "text"
      },
      "source": [
        "Linear and Polynomial Regression\n"
      ]
    },
    {
      "cell_type": "code",
      "metadata": {
        "id": "dNA1UyaECQKn",
        "colab_type": "code",
        "colab": {}
      },
      "source": [
        "from numpy import *"
      ],
      "execution_count": null,
      "outputs": []
    },
    {
      "cell_type": "code",
      "metadata": {
        "id": "XFKL6QZcCZ1Z",
        "colab_type": "code",
        "colab": {
          "base_uri": "https://localhost:8080/",
          "height": 54
        },
        "outputId": "544e884d-f7d8-4a50-ba91-04e2181e14e3"
      },
      "source": [
        "x=array([0,1,2,3,4,5])\n",
        "y=array([0,0.8,0.9,0.1,-0.8,-1])\n",
        "print(x)\n",
        "print(y)\n"
      ],
      "execution_count": null,
      "outputs": [
        {
          "output_type": "stream",
          "text": [
            "[0 1 2 3 4 5]\n",
            "[ 0.   0.8  0.9  0.1 -0.8 -1. ]\n"
          ],
          "name": "stdout"
        }
      ]
    },
    {
      "cell_type": "code",
      "metadata": {
        "id": "CQdQfX8UDDJh",
        "colab_type": "code",
        "colab": {}
      },
      "source": [
        "from scipy.interpolate import *"
      ],
      "execution_count": null,
      "outputs": []
    },
    {
      "cell_type": "code",
      "metadata": {
        "id": "rfrTGFbUDToW",
        "colab_type": "code",
        "colab": {}
      },
      "source": [
        "from matplotlib.pyplot import *"
      ],
      "execution_count": null,
      "outputs": []
    },
    {
      "cell_type": "code",
      "metadata": {
        "id": "oHGj_8ajDHLk",
        "colab_type": "code",
        "colab": {
          "base_uri": "https://localhost:8080/",
          "height": 72
        },
        "outputId": "0033dc53-01ca-4c78-ea83-ed16d72d7584"
      },
      "source": [
        "p1=polyfit(x,y,1)\n",
        "p2=polyfit(x,y,2)\n",
        "p3=polyfit(x,y,3)\n",
        "print(p1)\n",
        "print(p2)\n",
        "print(p3)\n"
      ],
      "execution_count": null,
      "outputs": [
        {
          "output_type": "stream",
          "text": [
            "[-0.30285714  0.75714286]\n",
            "[-0.16071429  0.50071429  0.22142857]\n",
            "[ 0.08703704 -0.81349206  1.69312169 -0.03968254]\n"
          ],
          "name": "stdout"
        }
      ]
    },
    {
      "cell_type": "code",
      "metadata": {
        "id": "OMcB8whoDuI7",
        "colab_type": "code",
        "colab": {
          "base_uri": "https://localhost:8080/",
          "height": 265
        },
        "outputId": "b0182e98-c62d-4393-f736-4d1418845706"
      },
      "source": [
        "plot(x,y,'o')\n",
        "xp=linspace(-2,6,100)\n",
        "plot(xp,polyval(p1,xp), 'r-')\n",
        "plot(xp,polyval(p2,xp),'b--')\n",
        "plot(xp,polyval(p3,xp),'m:')\n",
        "show()"
      ],
      "execution_count": null,
      "outputs": [
        {
          "output_type": "display_data",
          "data": {
            "image/png": "[encoded data removed]",
            "text/plain": [
              "<Figure size 432x288 with 1 Axes>"
            ]
          },
          "metadata": {
            "tags": [],
            "needs_background": "light"
          }
        }
      ]
    },
    {
      "cell_type": "code",
      "metadata": {
        "id": "OdP1-q8JDkEw",
        "colab_type": "code",
        "colab": {}
      },
      "source": [
        "%matplotlib inline"
      ],
      "execution_count": null,
      "outputs": []
    },
    {
      "cell_type": "code",
      "metadata": {
        "id": "cGX0KiDHGD4C",
        "colab_type": "code",
        "colab": {
          "base_uri": "https://localhost:8080/",
          "height": 54
        },
        "outputId": "9476976e-a245-42d3-af9e-8f7e00a41452"
      },
      "source": [
        "yfit=p1[0] * x + p1[1]\n",
        "print(yfit)\n",
        "print(y)"
      ],
      "execution_count": null,
      "outputs": [
        {
          "output_type": "stream",
          "text": [
            "[ 0.75714286  0.45428571  0.15142857 -0.15142857 -0.45428571 -0.75714286]\n",
            "[ 0.   0.8  0.9  0.1 -0.8 -1. ]\n"
          ],
          "name": "stdout"
        }
      ]
    },
    {
      "cell_type": "code",
      "metadata": {
        "id": "5m8BIfLTJGMv",
        "colab_type": "code",
        "colab": {
          "base_uri": "https://localhost:8080/",
          "height": 35
        },
        "outputId": "667da9d4-c67f-4d1f-b4af-15b7893cafda"
      },
      "source": [
        "yresid=y - yfit\n",
        "SSresid=sum(pow(yresid,2))\n",
        "SStotal=len(y) * var(y)\n",
        "rsq=1 - SSresid/SStotal\n",
        "print(rsq)"
      ],
      "execution_count": null,
      "outputs": [
        {
          "output_type": "stream",
          "text": [
            "0.5177880184331798\n"
          ],
          "name": "stdout"
        }
      ]
    },
    {
      "cell_type": "markdown",
      "metadata": {
        "id": "8kJSQNKAKm28",
        "colab_type": "text"
      },
      "source": [
        "Another way to do this is to use the linregress function as below"
      ]
    },
    {
      "cell_type": "code",
      "metadata": {
        "id": "hIAsCee1JaUU",
        "colab_type": "code",
        "colab": {
          "base_uri": "https://localhost:8080/",
          "height": 35
        },
        "outputId": "190b83a1-d95a-41e9-80f3-71d0f351f0fc"
      },
      "source": [
        "from scipy.stats import *\n",
        "slope,intercept,r_value,p_value,std_err=linregress(x,y)\n",
        "print(pow(r_value,2))"
      ],
      "execution_count": null,
      "outputs": [
        {
          "output_type": "stream",
          "text": [
            "0.5177880184331796\n"
          ],
          "name": "stdout"
        }
      ]
    },
    {
      "cell_type": "code",
      "metadata": {
        "id": "wY2j4idwKDOd",
        "colab_type": "code",
        "colab": {
          "base_uri": "https://localhost:8080/",
          "height": 35
        },
        "outputId": "432d1539-82b8-4983-c9c2-9e995cf55bec"
      },
      "source": [
        "print(p_value)"
      ],
      "execution_count": null,
      "outputs": [
        {
          "output_type": "stream",
          "text": [
            "0.10693129655435198\n"
          ],
          "name": "stdout"
        }
      ]
    }
  ]
}