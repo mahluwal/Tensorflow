{
  "nbformat": 4,
  "nbformat_minor": 0,
  "metadata": {
    "colab": {
      "name": "NNusingNumpy",
      "provenance": [],
      "collapsed_sections": [],
      "authorship_tag": "ABX9TyPIyZw8F4MPLIKEoHpcnV4l",
      "include_colab_link": true
    },
    "kernelspec": {
      "name": "python3",
      "display_name": "Python 3"
    },
    "language_info": {
      "name": "python"
    }
  },
  "cells": [
    {
      "cell_type": "markdown",
      "metadata": {
        "id": "view-in-github",
        "colab_type": "text"
      },
      "source": [
        "<a href=\"https://colab.research.google.com/github/mahluwal/Tensorflow/blob/master/NNusingNumpy.ipynb\" target=\"_parent\"><img src=\"https://colab.research.google.com/assets/colab-badge.svg\" alt=\"Open In Colab\"/></a>"
      ]
    },
    {
      "cell_type": "code",
      "metadata": {
        "id": "HrTnPWMuirbJ"
      },
      "source": [
        "import numpy as np"
      ],
      "execution_count": 2,
      "outputs": []
    },
    {
      "cell_type": "markdown",
      "metadata": {
        "id": "izG51l5uizz7"
      },
      "source": [
        "Implementing NN using Numpy\n",
        "\n",
        "\n"
      ]
    },
    {
      "cell_type": "code",
      "metadata": {
        "colab": {
          "base_uri": "https://localhost:8080/"
        },
        "id": "itDSB94qjOMv",
        "outputId": "61116342-0b04-4b9a-da54-409751750fc6"
      },
      "source": [
        "#Input array\n",
        "X=np.array([[1,0,1,0],[1,0,1,1],[0,1,0,1]])\n",
        "\n",
        "#Output\n",
        "y=np.array([[1],[1],[0]])\n",
        "\n",
        "#Sigmoid Function\n",
        "def sigmoid(x):\n",
        "  return 1/(1+np.exp(-x))\n",
        "\n",
        "#Derivatives of Sigmoid Function\n",
        "def derivatives_sigmoid(x):\n",
        "  return x*(1-x)\n",
        "#Variable Initialization\n",
        "epoch=5000 #Setting training iterations\n",
        "lr=0.1 #Setting learning rate\n",
        "inputlayer_neurons=X.shape[1] #number of features in dataset\n",
        "hiddenlayer_neurons = 3 #number of hidden layer neurons\n",
        "output_neurons = 1 #number of neurons at output layer\n",
        "\n",
        "#weight and bias initialization\n",
        "wh=np.random.uniform(size=(inputlayer_neurons, hiddenlayer_neurons))\n",
        "bh=np.random.uniform(size=(1,hiddenlayer_neurons))\n",
        "wout=np.random.uniform(size=(hiddenlayer_neurons, output_neurons))\n",
        "bout=np.random.uniform(size=(1,output_neurons))\n",
        "\n",
        "for i in range(epoch):\n",
        "\n",
        "  #Forward propagation\n",
        "  hidden_layer_input1=np.dot(X,wh)\n",
        "  hidden_layer_input=hidden_layer_input1+bh\n",
        "  hiddenlayer_activations=sigmoid(hidden_layer_input)\n",
        "  output_layer_input1=np.dot(hiddenlayer_activations,wout)\n",
        "  output_layer_input=output_layer_input1+bout\n",
        "  output=sigmoid(output_layer_input)\n",
        "\n",
        "  #Backward propagation\n",
        "  E=y-output\n",
        "  slope_output_layer = derivatives_sigmoid(output)\n",
        "  slope_hidden_layer=derivatives_sigmoid(hiddenlayer_activations)\n",
        "  d_output = E * slope_output_layer\n",
        "  Error_at_hidden_layer = d_output.dot(wout.T)\n",
        "  d_hiddenlayer=Error_at_hidden_layer * slope_hidden_layer\n",
        "  wout += hiddenlayer_activations.T.dot(d_output) * lr\n",
        "  bout += np.sum(d_output, axis=0, keepdims=True) * lr \n",
        "  wh += X.T.dot(d_hiddenlayer) * lr \n",
        "  bh += np.sum(d_hiddenlayer, axis=0, keepdims=True) * lr \n",
        "\n",
        "print(output)\n",
        "\n",
        "\n",
        "\n",
        "\n"
      ],
      "execution_count": 8,
      "outputs": [
        {
          "output_type": "stream",
          "text": [
            "[[0.97830746]\n",
            " [0.96801094]\n",
            " [0.04945282]]\n"
          ],
          "name": "stdout"
        }
      ]
    },
    {
      "cell_type": "code",
      "metadata": {
        "id": "f7zDwDPvjQdd"
      },
      "source": [
        ""
      ],
      "execution_count": null,
      "outputs": []
    }
  ]
}