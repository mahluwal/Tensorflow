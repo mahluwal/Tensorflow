{
  "nbformat": 4,
  "nbformat_minor": 0,
  "metadata": {
    "colab": {
      "name": "Untitled5.ipynb",
      "provenance": [],
      "authorship_tag": "ABX9TyOBkSxRIAFNOM2iKBY6SzxB",
      "include_colab_link": true
    },
    "kernelspec": {
      "display_name": "Python 3",
      "name": "python3"
    },
    "language_info": {
      "name": "python"
    }
  },
  "cells": [
    {
      "cell_type": "markdown",
      "metadata": {
        "id": "view-in-github",
        "colab_type": "text"
      },
      "source": [
        "<a href=\"https://colab.research.google.com/github/mahluwal/Tensorflow/blob/master/KerasDigitRecognition.ipynb\" target=\"_parent\"><img src=\"https://colab.research.google.com/assets/colab-badge.svg\" alt=\"Open In Colab\"/></a>"
      ]
    },
    {
      "cell_type": "markdown",
      "metadata": {
        "id": "98fXLNGFxCQY"
      },
      "source": [
        "https://www.sitepoint.com/keras-digit-recognition-tutorial/"
      ]
    },
    {
      "cell_type": "code",
      "metadata": {
        "id": "pKw-cBMhyZtH"
      },
      "source": [
        "import tensorflow as tf\n",
        "import keras"
      ],
      "execution_count": null,
      "outputs": []
    },
    {
      "cell_type": "code",
      "metadata": {
        "id": "d2wz2OlXwOJQ"
      },
      "source": [
        "from keras.datasets import mnist\n",
        "\n",
        "(x_train, y_train), (x_test, y_test) = mnist.load_data()\n"
      ],
      "execution_count": null,
      "outputs": []
    },
    {
      "cell_type": "code",
      "metadata": {
        "colab": {
          "base_uri": "https://localhost:8080/",
          "height": 283
        },
        "id": "zwTwCeoewWug",
        "outputId": "ff3d5a83-218b-4a9b-acae-4c093289a165"
      },
      "source": [
        "%matplotlib inline\n",
        "import matplotlib.pyplot as plt\n",
        "\n",
        "image_index = 35\n",
        "print(y_train[image_index])\n",
        "plt.imshow(x_train[image_index], cmap='Greys')\n",
        "plt.show()\n"
      ],
      "execution_count": null,
      "outputs": [
        {
          "output_type": "stream",
          "text": [
            "5\n"
          ],
          "name": "stdout"
        },
        {
          "output_type": "display_data",
          "data": {
            "image/png": "[encoded data removed]",
            "text/plain": [
              "<Figure size 432x288 with 1 Axes>"
            ]
          },
          "metadata": {
            "tags": []
          }
        }
      ]
    },
    {
      "cell_type": "code",
      "metadata": {
        "colab": {
          "base_uri": "https://localhost:8080/"
        },
        "id": "Y1xN-keLwjDw",
        "outputId": "f5a5c6de-fae6-4d9a-df83-5dbec1cc66f8"
      },
      "source": [
        "print(x_train.shape)\n",
        "print(x_test.shape)\n"
      ],
      "execution_count": null,
      "outputs": [
        {
          "output_type": "stream",
          "text": [
            "(60000, 28, 28)\n",
            "(10000, 28, 28)\n"
          ],
          "name": "stdout"
        }
      ]
    },
    {
      "cell_type": "code",
      "metadata": {
        "colab": {
          "base_uri": "https://localhost:8080/"
        },
        "id": "EynUAOYpwj5O",
        "outputId": "ce5e10db-9e11-4d54-88fa-de4c8a2d7795"
      },
      "source": [
        "print(y_train[:image_index + 1])\n"
      ],
      "execution_count": null,
      "outputs": [
        {
          "output_type": "stream",
          "text": [
            "[5 0 4 1 9 2 1 3 1 4 3 5 3 6 1 7 2 8 6 9 4 0 9 1 1 2 4 3 2 7 3 8 6 9 0 5]\n"
          ],
          "name": "stdout"
        }
      ]
    },
    {
      "cell_type": "code",
      "metadata": {
        "id": "V-17dwLQwn7B"
      },
      "source": [
        "# save input image dimensions\n",
        "img_rows, img_cols = 28, 28\n",
        "\n",
        "x_train = x_train.reshape(x_train.shape[0], img_rows, img_cols, 1)\n",
        "x_test = x_test.reshape(x_test.shape[0], img_rows, img_cols, 1)\n",
        "\n",
        "x_train = x_train/255\n",
        "x_test = x_test/255"
      ],
      "execution_count": null,
      "outputs": []
    },
    {
      "cell_type": "code",
      "metadata": {
        "id": "E9UN1HitwtZp"
      },
      "source": [
        "#from keras.utils import to_categorical\n",
        "num_classes = 10\n",
        "\n",
        "y_train = tf.keras.utils.to_categorical(y_train, num_classes)\n",
        "y_test = tf.keras.utils.to_categorical(y_test, num_classes)\n"
      ],
      "execution_count": null,
      "outputs": []
    },
    {
      "cell_type": "code",
      "metadata": {
        "id": "V7gbEXH7wzhd"
      },
      "source": [
        "from keras.models import Sequential\n",
        "from keras.layers import Dense, Dropout, Flatten, Conv2D, MaxPooling2D\n",
        "\n",
        "model = Sequential()\n",
        "model.add(Conv2D(32, kernel_size=(3, 3),\n",
        "     activation='relu',\n",
        "     input_shape=(img_rows, img_cols, 1)))\n"
      ],
      "execution_count": null,
      "outputs": []
    },
    {
      "cell_type": "code",
      "metadata": {
        "id": "uxubwSuOw36z"
      },
      "source": [
        "model.add(Conv2D(64, (3, 3), activation='relu'))\n",
        "model.add(MaxPooling2D(pool_size=(2, 2)))"
      ],
      "execution_count": null,
      "outputs": []
    },
    {
      "cell_type": "code",
      "metadata": {
        "id": "3efQTwQIw7_u"
      },
      "source": [
        "model.add(Dropout(0.25))"
      ],
      "execution_count": null,
      "outputs": []
    },
    {
      "cell_type": "code",
      "metadata": {
        "id": "ff9GRq9vyvC5"
      },
      "source": [
        "model.add(Flatten())"
      ],
      "execution_count": null,
      "outputs": []
    },
    {
      "cell_type": "code",
      "metadata": {
        "id": "D4WguKdJywuE"
      },
      "source": [
        "model.add(Dense(128, activation='relu'))\n",
        "model.add(Dropout(0.5))\n",
        "model.add(Dense(num_classes, activation='softmax'))"
      ],
      "execution_count": null,
      "outputs": []
    },
    {
      "cell_type": "code",
      "metadata": {
        "id": "qgVQ4rlAy03K"
      },
      "source": [
        "model.compile(loss='categorical_crossentropy',\n",
        "      optimizer='adam',\n",
        "      metrics=['accuracy'])"
      ],
      "execution_count": null,
      "outputs": []
    },
    {
      "cell_type": "code",
      "metadata": {
        "colab": {
          "background_save": true,
          "base_uri": "https://localhost:8080/"
        },
        "id": "s3ZqGH_hy-uQ",
        "outputId": "3b5f6f0e-2f33-4282-c9c9-f73ebd709da0"
      },
      "source": [
        "batch_size = 128\n",
        "epochs = 10\n",
        "\n",
        "model.fit(x_train, y_train,\n",
        "          batch_size=batch_size,\n",
        "          epochs=epochs,\n",
        "          verbose=1,\n",
        "          validation_data=(x_test, y_test))\n",
        "score = model.evaluate(x_test, y_test, verbose=0)\n",
        "print('Test loss:', score[0])\n",
        "print('Test accuracy:', score[1])\n",
        "model.save(\"test_model.h5\")"
      ],
      "execution_count": null,
      "outputs": [
        {
          "output_type": "stream",
          "text": [
            "Epoch 1/10\n",
            "469/469 [==============================] - 117s 219ms/step - loss: 0.5180 - accuracy: 0.8403 - val_loss: 0.0530 - val_accuracy: 0.9822\n",
            "Epoch 2/10\n",
            "469/469 [==============================] - 102s 217ms/step - loss: 0.0914 - accuracy: 0.9735 - val_loss: 0.0391 - val_accuracy: 0.9865\n",
            "Epoch 3/10\n",
            "469/469 [==============================] - 102s 217ms/step - loss: 0.0659 - accuracy: 0.9800 - val_loss: 0.0340 - val_accuracy: 0.9884\n",
            "Epoch 4/10\n",
            "469/469 [==============================] - 102s 218ms/step - loss: 0.0530 - accuracy: 0.9848 - val_loss: 0.0319 - val_accuracy: 0.9894\n",
            "Epoch 5/10\n",
            "469/469 [==============================] - 102s 217ms/step - loss: 0.0454 - accuracy: 0.9863 - val_loss: 0.0282 - val_accuracy: 0.9912\n",
            "Epoch 6/10\n",
            "469/469 [==============================] - 102s 217ms/step - loss: 0.0377 - accuracy: 0.9883 - val_loss: 0.0296 - val_accuracy: 0.9903\n",
            "Epoch 7/10\n",
            "469/469 [==============================] - 102s 218ms/step - loss: 0.0312 - accuracy: 0.9899 - val_loss: 0.0290 - val_accuracy: 0.9913\n",
            "Epoch 8/10\n",
            "469/469 [==============================] - 102s 218ms/step - loss: 0.0325 - accuracy: 0.9892 - val_loss: 0.0295 - val_accuracy: 0.9914\n",
            "Epoch 9/10\n",
            "469/469 [==============================] - 102s 216ms/step - loss: 0.0248 - accuracy: 0.9916 - val_loss: 0.0266 - val_accuracy: 0.9926\n",
            "Epoch 10/10\n",
            "469/469 [==============================] - 102s 217ms/step - loss: 0.0246 - accuracy: 0.9917 - val_loss: 0.0276 - val_accuracy: 0.9924\n",
            "Test loss: 0.027565734460949898\n",
            "Test accuracy: 0.9923999905586243\n"
          ],
          "name": "stdout"
        }
      ]
    },
    {
      "cell_type": "code",
      "metadata": {
        "colab": {
          "background_save": true
        },
        "id": "sm2zID6y21R0",
        "outputId": "5143836a-5b90-4b26-8cce-1768c636ff09"
      },
      "source": [
        "import imageio\n",
        "\n",
        "import numpy as np\n",
        "from matplotlib import pyplot as plt\n",
        "\n",
        "im = imageio.imread(\"https://i.imgur.com/a3Rql9C.png\")\n",
        "gray = np.dot(im[...,:3], [0.299, 0.587, 0.114])\n",
        "plt.imshow(gray, cmap = plt.get_cmap('gray'))\n",
        "plt.show()"
      ],
      "execution_count": null,
      "outputs": [
        {
          "output_type": "display_data",
          "data": {
            "image/png": "[encoded data removed]",
            "text/plain": [
              "<Figure size 432x288 with 1 Axes>"
            ]
          },
          "metadata": {
            "tags": []
          }
        }
      ]
    },
    {
      "cell_type": "code",
      "metadata": {
        "colab": {
          "background_save": true
        },
        "id": "kFddiKs22_KK"
      },
      "source": [
        "# reshape the image\n",
        "gray = gray.reshape(1, img_rows, img_cols, 1)\n",
        "\n",
        "# normalize image\n",
        "gray /= 255\n"
      ],
      "execution_count": null,
      "outputs": []
    },
    {
      "cell_type": "code",
      "metadata": {
        "colab": {
          "background_save": true
        },
        "id": "j99T3z6A3Eka",
        "outputId": "b8ae45b4-9f92-4828-897b-79e30af58ef5"
      },
      "source": [
        "# load the model\n",
        "from keras.models import load_model\n",
        "model = load_model(\"test_model.h5\")\n",
        "\n",
        "# predict digit\n",
        "prediction = model.predict(gray)\n",
        "print(prediction.argmax())\n"
      ],
      "execution_count": null,
      "outputs": [
        {
          "output_type": "stream",
          "text": [
            "5\n"
          ],
          "name": "stdout"
        }
      ]
    }
  ]
}